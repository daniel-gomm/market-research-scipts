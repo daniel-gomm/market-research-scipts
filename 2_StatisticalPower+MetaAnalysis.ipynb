{
 "cells": [
  {
   "cell_type": "code",
   "execution_count": 2,
   "id": "447131a3-4fa2-4a80-a2ee-e0f8ad46f4f4",
   "metadata": {
    "tags": []
   },
   "outputs": [],
   "source": [
    "import pandas as pd\n",
    "import numpy as np\n",
    "import scipy as sp\n",
    "from scipy import stats\n",
    "from IPython.display import display, Markdown, Latex"
   ]
  },
  {
   "cell_type": "markdown",
   "id": "ac5b163c-9927-4c4c-899c-47548393dbf0",
   "metadata": {
    "tags": []
   },
   "source": [
    "## Statistical Power"
   ]
  },
  {
   "cell_type": "markdown",
   "id": "7d9110b4-757f-4b05-887a-b78107454a78",
   "metadata": {
    "jp-MarkdownHeadingCollapsed": true,
    "tags": []
   },
   "source": [
    "### One sample t-test"
   ]
  },
  {
   "cell_type": "markdown",
   "id": "2b940dbd-baaf-4573-8225-2fc2cc076ecc",
   "metadata": {},
   "source": [
    "$H_0: \\mu \\leq \\mu_0$ and $H_1: \\mu = \\mu_1$, with $\\mu_1 > \\mu_0$\n",
    "\n",
    "$(1-\\beta) = 1 - \\Phi\\left(z_{1-\\alpha} - \\frac{\\mu_1 - \\mu_0}{s_x} \\sqrt{n}\\right)$"
   ]
  },
  {
   "cell_type": "code",
   "execution_count": 34,
   "id": "c1cae6c6-b672-4d53-bcf6-716e19734a33",
   "metadata": {
    "tags": []
   },
   "outputs": [
    {
     "data": {
      "text/plain": [
       "0.20853347182762438"
      ]
     },
     "execution_count": 34,
     "metadata": {},
     "output_type": "execute_result"
    }
   ],
   "source": [
    "# TODO: Verify that results are correct\n",
    "power_level = 0.8\n",
    "alpha = 0.05\n",
    "mu_1 = 5.6\n",
    "mu_0 = 5.5\n",
    "s_x = 1.2\n",
    "n = 100\n",
    "\n",
    "assert mu_1 > mu_0, \"'mu_1' has to be greater than 'mu_0'!\"\n",
    "\n",
    "z_minus_alpha = stats.distributions.norm.ppf(1-alpha)\n",
    "statistical_power = 1 - stats.distributions.norm.cdf(z_minus_alpha - ((mu_1 - mu_0)/s_x) * np.sqrt(n))\n",
    "statistical_power"
   ]
  },
  {
   "cell_type": "code",
   "execution_count": null,
   "id": "bdd4686c-a1a4-40f2-8f16-2bc2f294830f",
   "metadata": {},
   "outputs": [],
   "source": []
  },
  {
   "cell_type": "markdown",
   "id": "59d329fc-373c-4a1b-92d6-d63f3703adfe",
   "metadata": {},
   "source": [
    "$H_0: \\mu \\geq \\mu_0$ and $H_1: \\mu = \\mu_1$, with $\\mu_1 < \\mu_0$\n",
    "\n",
    "$(1-\\beta) = \\Phi\\left(z_{\\alpha} - \\frac{\\mu_1 - \\mu_0}{s_x} \\sqrt{n}\\right)$"
   ]
  },
  {
   "cell_type": "code",
   "execution_count": 35,
   "id": "f95108e7-beb8-4b19-895c-5d391e2ea14c",
   "metadata": {
    "tags": []
   },
   "outputs": [
    {
     "data": {
      "text/plain": [
       "0.20853347182762405"
      ]
     },
     "execution_count": 35,
     "metadata": {},
     "output_type": "execute_result"
    }
   ],
   "source": [
    "# TODO: Verify that results are correct\n",
    "power_level = 0.8\n",
    "alpha = 0.05\n",
    "mu_1 = 5.5\n",
    "mu_0 = 5.6\n",
    "s_x = 1.2\n",
    "n = 100\n",
    "\n",
    "assert mu_1 < mu_0, \"'mu_1' has to be smaller than 'mu_0'!\"\n",
    "\n",
    "z_alpha = stats.distributions.norm.ppf(alpha)\n",
    "statistical_power = stats.distributions.norm.cdf(z_alpha - ((mu_1 - mu_0)/s_x) * np.sqrt(n))\n",
    "statistical_power"
   ]
  },
  {
   "cell_type": "code",
   "execution_count": null,
   "id": "10167e6f-8bdb-4fa9-b393-f8fa24598835",
   "metadata": {},
   "outputs": [],
   "source": []
  },
  {
   "cell_type": "markdown",
   "id": "1711763b-0adf-43da-a6c8-778478394659",
   "metadata": {},
   "source": [
    "Two-tailed test with $H_0: \\mu = \\mu_0$ and $H_1: \\mu = \\mu_1$ or $\\mu = -\\mu_1$\n",
    "\n",
    "$(1-\\beta) = \\Phi\\left(-z_{1-\\frac{\\alpha}{2}} + \\frac{\\mu_1 - \\mu_0}{s_x} \\sqrt{n}\\right) + \\Phi\\left(-z_{1-\\frac{\\alpha}{2}} - \\frac{\\mu_1 - \\mu_0}{s_x} \\sqrt{n}\\right)$"
   ]
  },
  {
   "cell_type": "code",
   "execution_count": 36,
   "id": "5c8631b8-e979-441d-91fb-b6ab23aca7f0",
   "metadata": {
    "tags": []
   },
   "outputs": [
    {
     "data": {
      "text/plain": [
       "0.13255802275731324"
      ]
     },
     "execution_count": 36,
     "metadata": {},
     "output_type": "execute_result"
    }
   ],
   "source": [
    "# TODO: Verify that results are correct\n",
    "power_level = 0.8\n",
    "alpha = 0.05\n",
    "mu_1 = 5.5\n",
    "mu_0 = 5.6\n",
    "s_x = 1.2\n",
    "n = 100\n",
    "\n",
    "z_minus_alpha = stats.distributions.norm.ppf(1-alpha/2)\n",
    "statistical_power = stats.distributions.norm.cdf(-z_minus_alpha + ((mu_1 - mu_0)/s_x) * np.sqrt(n)) + stats.distributions.norm.cdf(-z_minus_alpha - ((mu_1 - mu_0)/s_x) * np.sqrt(n))\n",
    "statistical_power"
   ]
  },
  {
   "cell_type": "code",
   "execution_count": null,
   "id": "df2d6a81-149e-462a-9f7d-cd9298a58ac9",
   "metadata": {},
   "outputs": [],
   "source": []
  },
  {
   "cell_type": "markdown",
   "id": "99579642-15a7-4205-9091-f9eab0941ee2",
   "metadata": {
    "jp-MarkdownHeadingCollapsed": true,
    "tags": []
   },
   "source": [
    "### Two sample t-test"
   ]
  },
  {
   "cell_type": "markdown",
   "id": "438c517d-c001-4459-b4e5-434a0a098686",
   "metadata": {},
   "source": [
    "Statistical power of a two sample t-test ($n_1=n_2=n$):\n",
    "\n",
    "$(1-\\beta) = 1-\\Phi\\left(z_{1-\\frac{\\alpha}{2}} - \\frac{\\mu_1 - \\mu_2}{\\sigma_{pooled} * \\sqrt{2}}\\sqrt{n}\\right)$\n",
    "\n",
    "Rearranged:\n",
    "\n",
    "$n = \\left(\\frac{(z_{1-\\frac{\\alpha}{2}} + z_{1-\\beta}) * \\sigma_{pooled} * \\sqrt{2}}{\\mu_1 - \\mu_2} \\right)^2$"
   ]
  },
  {
   "cell_type": "code",
   "execution_count": 32,
   "id": "5928c0b3-db29-4f62-874e-626c2d3761f2",
   "metadata": {
    "tags": []
   },
   "outputs": [
    {
     "data": {
      "text/plain": [
       "0.08523294797176484"
      ]
     },
     "execution_count": 32,
     "metadata": {},
     "output_type": "execute_result"
    }
   ],
   "source": [
    "power_level = 0.8\n",
    "mu_1 = 5.5\n",
    "mu_2 = 5.6\n",
    "sigma_pooled = 1.2\n",
    "n = 100\n",
    "alpha = 0.05\n",
    "\n",
    "z_alpha = stats.distributions.norm.ppf(1-alpha/2)\n",
    "statistical_power = 1 - stats.distributions.norm.cdf(z_alpha - (np.abs(mu_2 - mu_1)/(sigma_pooled * np.sqrt(2))) * np.sqrt(n))\n",
    "statistical_power"
   ]
  },
  {
   "cell_type": "code",
   "execution_count": 33,
   "id": "1009fab9-2d6d-4b1b-a0d7-6b4b6a2472b2",
   "metadata": {
    "tags": []
   },
   "outputs": [
    {
     "data": {
      "text/plain": [
       "2260.4773634925536"
      ]
     },
     "execution_count": 33,
     "metadata": {},
     "output_type": "execute_result"
    }
   ],
   "source": [
    "beta = 0.2\n",
    "mu_1 = 5.5\n",
    "mu_2 = 5.6\n",
    "sigma_pooled = 1.2\n",
    "alpha = 0.05\n",
    "\n",
    "power_level = 1 - beta\n",
    "z_1_minus_alpha = stats.distributions.norm.ppf(1-alpha/2)\n",
    "z_1_minus_beta = stats.distributions.norm.ppf(1-beta)\n",
    "\n",
    "n = (((z_1_minus_alpha + z_1_minus_beta) * sigma_pooled * np.sqrt(2))/(mu_1 - mu_2))**2\n",
    "n"
   ]
  },
  {
   "cell_type": "code",
   "execution_count": null,
   "id": "bed16e1b-8c4c-495b-84c1-e10a227cd0c6",
   "metadata": {},
   "outputs": [],
   "source": []
  },
  {
   "cell_type": "code",
   "execution_count": null,
   "id": "5a873ba1-af71-4001-aa75-c1fb5a3cd84b",
   "metadata": {},
   "outputs": [],
   "source": []
  },
  {
   "cell_type": "markdown",
   "id": "b78de6a7-efd0-4e29-94e4-677f8400b0ac",
   "metadata": {
    "tags": []
   },
   "source": [
    "## Meta Analysis"
   ]
  },
  {
   "cell_type": "markdown",
   "id": "45611592-f433-4f00-9fe2-ea1e81139af5",
   "metadata": {},
   "source": [
    "$z_i = 0.5 * ln\\left(\\frac{1+r_i}{1-r_i}\\right)$\n",
    "\n",
    "$s.e._z = \\sqrt{1/(n-3)}$\n",
    "\n",
    "$W_i = (n_i - 3)$\n",
    "\n",
    "$\\bar{z} = \\frac{\\sum_{i=1}^k W_i z_i}{\\sum_{i=1}^k W_i}$\n",
    "\n",
    "$\\bar{r} = \\frac{e^{2\\bar{z}} - 1}{e^{2\\bar{z}} + 1}$\n",
    "\n",
    "$t = \\frac{\\bar{z}}{1} * \\sqrt{\\sum_{i=1}^k W_i}$"
   ]
  },
  {
   "cell_type": "code",
   "execution_count": 4,
   "id": "12045c1a-d2a6-4620-9688-2d8c73055e6a",
   "metadata": {
    "tags": []
   },
   "outputs": [
    {
     "data": {
      "text/markdown": [
       "Intermediary results"
      ],
      "text/plain": [
       "<IPython.core.display.Markdown object>"
      ]
     },
     "metadata": {},
     "output_type": "display_data"
    },
    {
     "data": {
      "text/html": [
       "<div>\n",
       "<style scoped>\n",
       "    .dataframe tbody tr th:only-of-type {\n",
       "        vertical-align: middle;\n",
       "    }\n",
       "\n",
       "    .dataframe tbody tr th {\n",
       "        vertical-align: top;\n",
       "    }\n",
       "\n",
       "    .dataframe thead th {\n",
       "        text-align: right;\n",
       "    }\n",
       "</style>\n",
       "<table border=\"1\" class=\"dataframe\">\n",
       "  <thead>\n",
       "    <tr style=\"text-align: right;\">\n",
       "      <th></th>\n",
       "      <th>n</th>\n",
       "      <th>r</th>\n",
       "      <th>z</th>\n",
       "      <th>s_e_z</th>\n",
       "      <th>W</th>\n",
       "      <th>W*z</th>\n",
       "    </tr>\n",
       "  </thead>\n",
       "  <tbody>\n",
       "    <tr>\n",
       "      <th>0</th>\n",
       "      <td>20</td>\n",
       "      <td>0.25</td>\n",
       "      <td>0.255</td>\n",
       "      <td>0.243</td>\n",
       "      <td>17</td>\n",
       "      <td>4.342</td>\n",
       "    </tr>\n",
       "    <tr>\n",
       "      <th>1</th>\n",
       "      <td>30</td>\n",
       "      <td>0.33</td>\n",
       "      <td>0.343</td>\n",
       "      <td>0.192</td>\n",
       "      <td>27</td>\n",
       "      <td>9.256</td>\n",
       "    </tr>\n",
       "    <tr>\n",
       "      <th>2</th>\n",
       "      <td>50</td>\n",
       "      <td>0.32</td>\n",
       "      <td>0.332</td>\n",
       "      <td>0.146</td>\n",
       "      <td>47</td>\n",
       "      <td>15.587</td>\n",
       "    </tr>\n",
       "    <tr>\n",
       "      <th>3</th>\n",
       "      <td>70</td>\n",
       "      <td>0.08</td>\n",
       "      <td>0.080</td>\n",
       "      <td>0.122</td>\n",
       "      <td>67</td>\n",
       "      <td>5.371</td>\n",
       "    </tr>\n",
       "    <tr>\n",
       "      <th>4</th>\n",
       "      <td>800</td>\n",
       "      <td>0.39</td>\n",
       "      <td>0.412</td>\n",
       "      <td>0.035</td>\n",
       "      <td>797</td>\n",
       "      <td>328.205</td>\n",
       "    </tr>\n",
       "    <tr>\n",
       "      <th>5</th>\n",
       "      <td>100</td>\n",
       "      <td>0.36</td>\n",
       "      <td>0.377</td>\n",
       "      <td>0.102</td>\n",
       "      <td>97</td>\n",
       "      <td>36.558</td>\n",
       "    </tr>\n",
       "    <tr>\n",
       "      <th>6</th>\n",
       "      <td>200</td>\n",
       "      <td>0.31</td>\n",
       "      <td>0.321</td>\n",
       "      <td>0.071</td>\n",
       "      <td>197</td>\n",
       "      <td>63.147</td>\n",
       "    </tr>\n",
       "    <tr>\n",
       "      <th>7</th>\n",
       "      <td>212</td>\n",
       "      <td>0.42</td>\n",
       "      <td>0.448</td>\n",
       "      <td>0.069</td>\n",
       "      <td>209</td>\n",
       "      <td>93.568</td>\n",
       "    </tr>\n",
       "    <tr>\n",
       "      <th>8</th>\n",
       "      <td>309</td>\n",
       "      <td>0.39</td>\n",
       "      <td>0.412</td>\n",
       "      <td>0.057</td>\n",
       "      <td>306</td>\n",
       "      <td>126.011</td>\n",
       "    </tr>\n",
       "    <tr>\n",
       "      <th>9</th>\n",
       "      <td>311</td>\n",
       "      <td>0.44</td>\n",
       "      <td>0.472</td>\n",
       "      <td>0.057</td>\n",
       "      <td>308</td>\n",
       "      <td>145.447</td>\n",
       "    </tr>\n",
       "  </tbody>\n",
       "</table>\n",
       "</div>"
      ],
      "text/plain": [
       "     n     r      z  s_e_z    W      W*z\n",
       "0   20  0.25  0.255  0.243   17    4.342\n",
       "1   30  0.33  0.343  0.192   27    9.256\n",
       "2   50  0.32  0.332  0.146   47   15.587\n",
       "3   70  0.08  0.080  0.122   67    5.371\n",
       "4  800  0.39  0.412  0.035  797  328.205\n",
       "5  100  0.36  0.377  0.102   97   36.558\n",
       "6  200  0.31  0.321  0.071  197   63.147\n",
       "7  212  0.42  0.448  0.069  209   93.568\n",
       "8  309  0.39  0.412  0.057  306  126.011\n",
       "9  311  0.44  0.472  0.057  308  145.447"
      ]
     },
     "metadata": {},
     "output_type": "display_data"
    },
    {
     "data": {
      "text/markdown": [
       "$\\bar{z} = 0.39936911694707605$, $\\bar{r} = 0.3794090248924953$, $t = 18.17897337407404$"
      ],
      "text/plain": [
       "<IPython.core.display.Markdown object>"
      ]
     },
     "metadata": {},
     "output_type": "display_data"
    }
   ],
   "source": [
    "n = np.array([20, 30, 50, 70, 800, 100, 200, 212, 309, 311])\n",
    "r = np.array([0.25, .33, .32, .08, .39, .36, .31, .42, .39, .44])\n",
    "\n",
    "assert len(n) == len(r), \"Different number of values in 'n' and 'r'\"\n",
    "\n",
    "z = .5 * np.log((1+r)/(1-r))\n",
    "s_e_z = np.sqrt(1/(n-3))\n",
    "W = (n-3)\n",
    "\n",
    "z_bar = np.sum(W*z)/np.sum(W)\n",
    "r_bar = (np.exp(2*z_bar) - 1)/(np.exp(2*z_bar) + 1)\n",
    "t = z_bar * np.sqrt(np.sum(W))\n",
    "\n",
    "data = {'n': n,'r': r, 'z': z,'s_e_z': s_e_z, 'W': W, 'W*z': W*z}\n",
    "display(Markdown('Intermediary results'), pd.DataFrame(data).round(decimals=3)\n",
    ")\n",
    "display(Markdown('$\\\\bar{z} = '+ str(z_bar) +'$, $\\\\bar{r} = ' + str(r_bar) + f'$, $t = {t}$'))"
   ]
  },
  {
   "cell_type": "code",
   "execution_count": null,
   "id": "179fadc3-139f-4ea4-9333-25e2a1a48bd4",
   "metadata": {},
   "outputs": [],
   "source": []
  },
  {
   "cell_type": "code",
   "execution_count": null,
   "id": "97c8e8ed-2f40-4ad2-ae70-fc127ca912e4",
   "metadata": {},
   "outputs": [],
   "source": []
  },
  {
   "cell_type": "code",
   "execution_count": null,
   "id": "4b4a2f1c-7feb-4a6b-8767-1dfdd69e0de3",
   "metadata": {},
   "outputs": [],
   "source": []
  },
  {
   "cell_type": "code",
   "execution_count": null,
   "id": "6db063c9-bf18-4052-8630-94fcf36873d8",
   "metadata": {},
   "outputs": [],
   "source": []
  }
 ],
 "metadata": {
  "kernelspec": {
   "display_name": "Python 3 (ipykernel)",
   "language": "python",
   "name": "python3"
  },
  "language_info": {
   "codemirror_mode": {
    "name": "ipython",
    "version": 3
   },
   "file_extension": ".py",
   "mimetype": "text/x-python",
   "name": "python",
   "nbconvert_exporter": "python",
   "pygments_lexer": "ipython3",
   "version": "3.11.4"
  }
 },
 "nbformat": 4,
 "nbformat_minor": 5
}
