{
 "cells": [
  {
   "cell_type": "markdown",
   "id": "0a6f2ad7-e1c6-4ed6-8944-81fe2a18c9a6",
   "metadata": {
    "jp-MarkdownHeadingCollapsed": true,
    "tags": []
   },
   "source": [
    "## Helper functions\n",
    "Run these cells once before using the notebook!"
   ]
  },
  {
   "cell_type": "code",
   "execution_count": 2,
   "id": "a261ffa1-0964-4372-bbb5-58dbb522da26",
   "metadata": {
    "tags": []
   },
   "outputs": [],
   "source": [
    "import pandas as pd\n",
    "import numpy as np\n",
    "import scipy as sp\n",
    "from scipy import stats\n",
    "from IPython.display import display, Markdown, Latex"
   ]
  },
  {
   "cell_type": "code",
   "execution_count": 3,
   "id": "7322b973-ad8d-482b-bc38-6b2d1d788e28",
   "metadata": {},
   "outputs": [],
   "source": [
    "def print_stats(values):\n",
    "    mean = values.mean()\n",
    "    variance = values.var()"
   ]
  },
  {
   "cell_type": "code",
   "execution_count": 4,
   "id": "3ac0d773-cc10-4875-82e9-3e571c42e70a",
   "metadata": {
    "tags": []
   },
   "outputs": [],
   "source": [
    "def display_results(hypothesis: str, test: str, critical_values: str, test_statistic: str, conclusion: str):\n",
    "    display(Markdown(f\"**Hypothesis:** {hypothesis}\\n\\n**Suitable Test:** {test}\\n\\n**Critical value(-s):** {critical_values}\\n\\n**Test statistic:** {test_statistic}\\n\\n**Conclusion:** {conclusion}\"))"
   ]
  },
  {
   "cell_type": "code",
   "execution_count": 5,
   "id": "fce4b308-05c4-4def-9c17-a8c721390cb8",
   "metadata": {
    "tags": []
   },
   "outputs": [],
   "source": [
    "def critical_values_string(critical_values):\n",
    "    assert 0 < len(critical_values) <= 2\n",
    "    if len(critical_values) == 1:\n",
    "        return f\"$C = {critical_values[0]}$\"\n",
    "    else:\n",
    "        return f\"$C_1 = {critical_values[0]}, C_2 = {critical_values[1]}$\""
   ]
  },
  {
   "cell_type": "code",
   "execution_count": 6,
   "id": "52b26966-e4b8-4fdc-a6b1-f4745799b7b5",
   "metadata": {
    "tags": []
   },
   "outputs": [],
   "source": [
    "def conclude(critical_values, test_statistic: float, two_tailed: bool = True, h1_param_greater_theta: bool = None, test_statistic_symbol: str = 't'):\n",
    "    assert not two_tailed or (h1_param_greater_theta == None), \"You cannot do a two tailed t-test and provide a value for the 'h1_param_greater_theta' parameter\"\n",
    "    assert two_tailed or (h1_param_greater_theta != None), \"You have to either set the 'two_tailed' parameter to true or provide the 'h1_param_greater_theta' parameter\"\n",
    "    if two_tailed:\n",
    "        assert len(critical_values) == 2\n",
    "        assert critical_values[0] < critical_values[1]\n",
    "        if critical_values[0] <= test_statistic <= critical_values[1]:\n",
    "            return f\"Since $C_1 = {critical_values[0]} \\\\leq {test_statistic} \\\\leq {critical_values[1]} = C_2$ we cannot reject $H_0$\"\n",
    "        elif test_statistic < critical_values[0] or test_statistic > critical_values[1]:\n",
    "            return f\"Reject $H_0$ because ${test_statistic} (\\\\lt|\\\\gt) ({critical_values[0]}|{critical_values[1]}) = (C_1|C_2)$\"\n",
    "    else:\n",
    "        assert len(critical_values) == 1\n",
    "        c = critical_values[0]\n",
    "        if h1_param_greater_theta:\n",
    "            if test_statistic >= c:\n",
    "                return f\"Since ${test_statistic} \\\\nless {c} = C$ we cannot reject $H_0$\"\n",
    "            else:\n",
    "                return f\"Reject $H_0$ because $t = {test_statistic} \\\\lt {c} = C$\"\n",
    "        else:\n",
    "            if test_statistic <= c:\n",
    "                return f\"Since ${test_statistic} \\\\ngtr {c} = C$ we cannot reject $H_0$\"\n",
    "            else:\n",
    "                return f\"Reject $H_0$ because $t = {test_statistic} \\\\gt {c} = C$\" "
   ]
  },
  {
   "cell_type": "markdown",
   "id": "293c3ea0-231d-42fb-a72a-0dde8ca9dc51",
   "metadata": {
    "jp-MarkdownHeadingCollapsed": true,
    "tags": []
   },
   "source": [
    "## One sample t-test\n",
    "Objective: Test hypothesis about the population mean $\\mu$ based on one sample"
   ]
  },
  {
   "cell_type": "markdown",
   "id": "23b3c040-9cb0-4804-bb26-3b02b0ce2ceb",
   "metadata": {
    "tags": []
   },
   "source": [
    "Key questions:\n",
    "    \n",
    "- Two-tailed: Does the population mean $\\mu$ deviate from a hypothesized mean $\\mu_0$?\n",
    "    \n",
    "- One-tailed: Is the population mean $\\mu$ smaller or larger than a hypothesized mean $\\mu_0$?\n",
    "    \n",
    "Hypotheses (two-tailed):\n",
    "\n",
    "- $H_0: \\mu = \\mu_0$\n",
    "\n",
    "- $H_1: \\mu \\neq \\mu_0$\n",
    "\n",
    "Test statistic: $t=\\frac{\\bar{x}-\\mu_0}{s}*\\sqrt{n}$ , with sample mean $\\bar{x}$, hypothesized mean $\\mu_0$ and sample standard deviation $s$\n",
    "\n",
    "If $H_0$ is true, the test statistic follows a t distribution with $df = n - 1$"
   ]
  },
  {
   "cell_type": "code",
   "execution_count": 6,
   "id": "093dc43c-21dc-474e-b906-34ecc0d8332e",
   "metadata": {
    "tags": []
   },
   "outputs": [],
   "source": [
    "def one_sample_t_test(x: np.ndarray, hypothesized_mean: float, two_tailed: bool = True, h1_param_greater_theta: bool = None, alpha: float = 0.05):\n",
    "    assert 0 < alpha < 1, \"Aplha has to be between 0 and 1\"\n",
    "    assert not two_tailed or (h1_param_greater_theta == None), \"You cannot do a two tailed t-test and provide a value for the 'h1_param_greater_theta' parameter\"\n",
    "    assert two_tailed or (h1_param_greater_theta != None), \"You have to either set the 'two_tailed' parameter to true or provide the 'h1_param_greater_theta' parameter\"\n",
    "    if two_tailed:\n",
    "        hypothesis = f\"$H_0: \\mu = {hypothesized_mean}, H_1: \\mu \\\\neq {hypothesized_mean}, \\\\alpha = {alpha}$\"\n",
    "        result = stats.ttest_1samp(x, popmean=hypothesized_mean, alternative='two-sided')\n",
    "        critical_values = stats.distributions.t.interval(1-alpha, result.df)\n",
    "    else:\n",
    "        if h1_param_greater_theta:\n",
    "            hypothesis = f\"$H_0: \\mu \\leq {hypothesized_mean}, H_1: \\mu \\\\gt {hypothesized_mean}, \\\\alpha = {alpha}$\"\n",
    "            result = stats.ttest_1samp(x, popmean=hypothesized_mean, alternative='less')\n",
    "            c, _ = stats.distributions.t.interval(1-(alpha*2), result.df)\n",
    "            critical_values = (c,)\n",
    "        else:\n",
    "            hypothesis = f\"$H_0: \\mu \\geq {hypothesized_mean}, H_1: \\mu \\\\lt {hypothesized_mean}, \\\\alpha = {alpha}$\"\n",
    "            result = stats.ttest_1samp(x, popmean=hypothesized_mean, alternative='greater')\n",
    "            _, c = stats.distributions.t.interval(1-(alpha*2), result.df)\n",
    "            critical_values = (c,)\n",
    "    display_results(hypothesis, \"One sample t-test\", critical_values_string(critical_values), f\"$t={result.statistic}$\", conclude(critical_values, result.statistic, two_tailed=two_tailed, h1_param_greater_theta=h1_param_greater_theta, test_statistic_symbol='t'))\n",
    "    display(Markdown(f\"*Additional results: $p = {result.pvalue}$*\"))\n",
    "    return result"
   ]
  },
  {
   "cell_type": "markdown",
   "id": "a9a59858-459e-4ebb-8b0c-65ca659ddad3",
   "metadata": {
    "tags": []
   },
   "source": [
    "### Examples"
   ]
  },
  {
   "cell_type": "code",
   "execution_count": 7,
   "id": "ebbea079-59c6-401c-a165-aaa5e912d553",
   "metadata": {
    "tags": []
   },
   "outputs": [
    {
     "data": {
      "text/markdown": [
       "**Hypothesis:** $H_0: \\mu = 4, H_1: \\mu \\neq 4, \\alpha = 0.05$\n",
       "\n",
       "**Suitable Test:** One sample t-test\n",
       "\n",
       "**Critical value(-s):** $C_1 = -2.1447866879169273, C_2 = 2.1447866879169273$\n",
       "\n",
       "**Test statistic:** $t=-1.1456439237389595$\n",
       "\n",
       "**Conclusion:** Since $C_1 = -2.1447866879169273 \\leq -1.1456439237389595 \\leq 2.1447866879169273 = C_2$ we cannot reject $H_0$"
      ],
      "text/plain": [
       "<IPython.core.display.Markdown object>"
      ]
     },
     "metadata": {},
     "output_type": "display_data"
    },
    {
     "data": {
      "text/markdown": [
       "*Additional results: $p = 0.27114900383167007$*"
      ],
      "text/plain": [
       "<IPython.core.display.Markdown object>"
      ]
     },
     "metadata": {},
     "output_type": "display_data"
    },
    {
     "data": {
      "text/plain": [
       "TtestResult(statistic=-1.1456439237389595, pvalue=0.27114900383167007, df=14)"
      ]
     },
     "execution_count": 7,
     "metadata": {},
     "output_type": "execute_result"
    }
   ],
   "source": [
    "#Example 1\n",
    "values = np.array([5,4,2,4,5,2,3,3,2,1,4,5,5,4,5])\n",
    "one_sample_t_test(values, 4, two_tailed=True, alpha=0.05)"
   ]
  },
  {
   "cell_type": "code",
   "execution_count": 8,
   "id": "37d69555-50e0-4f0c-be60-e3ef9dbdc1d8",
   "metadata": {
    "tags": []
   },
   "outputs": [
    {
     "data": {
      "text/markdown": [
       "**Hypothesis:** $H_0: \\mu \\leq 4, H_1: \\mu \\gt 4, \\alpha = 0.05$\n",
       "\n",
       "**Suitable Test:** One sample t-test\n",
       "\n",
       "**Critical value(-s):** $C = -1.7613101357748566$\n",
       "\n",
       "**Test statistic:** $t=-1.1456439237389595$\n",
       "\n",
       "**Conclusion:** Since $-1.1456439237389595 \\nless -1.7613101357748566 = C$ we cannot reject $H_0$"
      ],
      "text/plain": [
       "<IPython.core.display.Markdown object>"
      ]
     },
     "metadata": {},
     "output_type": "display_data"
    },
    {
     "data": {
      "text/markdown": [
       "*Additional results: $p = 0.13557450191583503$*"
      ],
      "text/plain": [
       "<IPython.core.display.Markdown object>"
      ]
     },
     "metadata": {},
     "output_type": "display_data"
    },
    {
     "data": {
      "text/plain": [
       "TtestResult(statistic=-1.1456439237389595, pvalue=0.13557450191583503, df=14)"
      ]
     },
     "execution_count": 8,
     "metadata": {},
     "output_type": "execute_result"
    }
   ],
   "source": [
    "#Example 2\n",
    "values = np.array([5,4,2,4,5,2,3,3,2,1,4,5,5,4,5])\n",
    "one_sample_t_test(values, 4, two_tailed=False, h1_param_greater_theta=True, alpha=0.05)"
   ]
  },
  {
   "cell_type": "markdown",
   "id": "0b258cdd-1ec9-4997-a761-05e4047303ad",
   "metadata": {},
   "source": [
    "### Calculate"
   ]
  },
  {
   "cell_type": "code",
   "execution_count": null,
   "id": "0497a72d-43d8-4fbb-9a27-dad350e1ce67",
   "metadata": {},
   "outputs": [],
   "source": [
    "values = np.array([1,2,3])\n",
    "hypothesized_mean = 1\n",
    "one_sample_t_test(values, hypothesized_mean, two_tailed=, h1_param_greater_theta=, alpha=)"
   ]
  },
  {
   "cell_type": "markdown",
   "id": "f8b494f9-d377-48be-81e8-61f8b485acc7",
   "metadata": {
    "jp-MarkdownHeadingCollapsed": true,
    "tags": []
   },
   "source": [
    "## Two sample t-test\n",
    "\n",
    "Objective: Test hypothesis that compare population means between two independent samples from different populations"
   ]
  },
  {
   "cell_type": "markdown",
   "id": "da38f27f-9569-4ce5-844e-b8f8a1c5322a",
   "metadata": {},
   "source": [
    "Key questions:\n",
    "    \n",
    "- Two-tailed: Do the population means $\\mu_1$ and $\\mu_2$ differ?\n",
    "    \n",
    "- One-tailed: Is the population mean $\\mu_1$ smaller or larger than population mean $\\mu_2$?\n",
    "    \n",
    "Hypotheses (two-tailed):\n",
    "\n",
    "- $H_0: \\mu_1 = \\mu_2$\n",
    "\n",
    "- $H_1: \\mu_1 \\neq \\mu_2$\n",
    "\n",
    "Test statistic: $t=\\frac{\\bar{x_1}-\\bar{x_2}}{\\sqrt{  \\frac{(n_1+n_2)[(n_1-1)s_1^2+(n_2-1)s_2^2]}{n_1 * n_2 (n_1+n_2-2)}  }}$ , with sample means $\\bar{x_1}$ and $\\bar{x_2}$, numbers of samples $n_1$ and $n_2$\n",
    "\n",
    "If $H_0$ is true, the test statistic follows a t distribution with $df = n_1 + n_2 - 2$"
   ]
  },
  {
   "cell_type": "code",
   "execution_count": 9,
   "id": "088f48ce-bed3-4806-93c4-cdb5fa333b77",
   "metadata": {
    "tags": []
   },
   "outputs": [],
   "source": [
    "def two_sample_t_test(x_1: np.ndarray, x_2: np.ndarray, two_tailed: bool = True, h1_param_greater_theta: bool = None, alpha: float = 0.05):\n",
    "    assert 0 < alpha < 1, \"Aplha has to be between 0 and 1\"\n",
    "    assert not two_tailed or (h1_param_greater_theta == None), \"You cannot do a two tailed t-test and provide a value for the 'h1_param_greater_theta' parameter\"\n",
    "    assert two_tailed or (h1_param_greater_theta != None), \"You have to either set the 'two_tailed' parameter to true or provide the 'h1_param_greater_theta' parameter\"\n",
    "    df = len(x_1) + len(x_2) - 2\n",
    "    if two_tailed:\n",
    "        hypothesis = f\"$H_0: \\mu_1 = \\mu_2, H_1: \\mu_1 \\\\neq \\mu_2, \\\\alpha = {alpha}$\"\n",
    "        result = stats.ttest_ind(x_1, x_2, alternative='two-sided')\n",
    "        critical_values = stats.distributions.t.interval(1-alpha, df)\n",
    "    else:\n",
    "        if h1_param_greater_theta:\n",
    "            hypothesis = f\"$H_0: \\mu_1 \\leq \\mu_2, H_1: \\mu_1 \\\\gt \\mu_2, \\\\alpha = {alpha}$\"\n",
    "            result = stats.ttest_ind(x_1, x_2, alternative='less')\n",
    "            c, _ = stats.distributions.t.interval(1-(alpha*2), df)\n",
    "            critical_values = (c,)\n",
    "        else:\n",
    "            hypothesis = f\"$H_0: \\mu_1 \\geq \\mu_2, H_1: \\mu_1 \\\\lt \\mu_2, \\\\alpha = {alpha}$\"\n",
    "            result = stats.ttest_ind(x_1, x_2, alternative='greater')\n",
    "            _, c = stats.distributions.t.interval(1-(alpha*2), df)\n",
    "            critical_values = (c,)\n",
    "    display_results(hypothesis, \"Two sample t-test\", critical_values_string(critical_values), f\"$t={result.statistic}$\", conclude(critical_values, result.statistic, two_tailed=two_tailed, h1_param_greater_theta=h1_param_greater_theta, test_statistic_symbol='t'))\n",
    "    display(Markdown(f\"*Additional results:    $p = {result.pvalue}$    $df={df}$*\"))\n",
    "    return result"
   ]
  },
  {
   "cell_type": "markdown",
   "id": "ed19000e-04c0-4815-b112-44ea7bbace0b",
   "metadata": {},
   "source": [
    "### Examples"
   ]
  },
  {
   "cell_type": "code",
   "execution_count": 10,
   "id": "6a9854fe-c032-46e9-add6-77745df661bb",
   "metadata": {
    "tags": []
   },
   "outputs": [
    {
     "data": {
      "text/markdown": [
       "**Hypothesis:** $H_0: \\mu_1 = \\mu_2, H_1: \\mu_1 \\neq \\mu_2, \\alpha = 0.05$\n",
       "\n",
       "**Suitable Test:** Two sample t-test\n",
       "\n",
       "**Critical value(-s):** $C_1 = -2.079613844727662, C_2 = 2.079613844727662$\n",
       "\n",
       "**Test statistic:** $t=-2.799960442832919$\n",
       "\n",
       "**Conclusion:** Reject $H_0$ because $-2.799960442832919 (\\lt|\\gt) (-2.079613844727662|2.079613844727662) = (C_1|C_2)$"
      ],
      "text/plain": [
       "<IPython.core.display.Markdown object>"
      ]
     },
     "metadata": {},
     "output_type": "display_data"
    },
    {
     "data": {
      "text/markdown": [
       "*Additional results:    $p = 0.010730607904197957$    $df=21$*"
      ],
      "text/plain": [
       "<IPython.core.display.Markdown object>"
      ]
     },
     "metadata": {},
     "output_type": "display_data"
    },
    {
     "data": {
      "text/plain": [
       "Ttest_indResult(statistic=-2.799960442832919, pvalue=0.010730607904197957)"
      ]
     },
     "execution_count": 10,
     "metadata": {},
     "output_type": "execute_result"
    }
   ],
   "source": [
    "x_1 = np.array([13.3, 6.0, 20, 8,14, 19,18, 25, 16, 24, 15, 1, 15])\n",
    "x_2 = np.array([22, 16, 21.7, 21, 30, 26, 12, 23.2, 28, 23])\n",
    "two_sample_t_test(x_1, x_2, two_tailed=True)"
   ]
  },
  {
   "cell_type": "code",
   "execution_count": null,
   "id": "9f93b1e0-8638-45d7-a6d0-df3509c7280d",
   "metadata": {},
   "outputs": [],
   "source": []
  },
  {
   "cell_type": "markdown",
   "id": "320b73d2-2fc2-4f2f-ba38-a37fd8978658",
   "metadata": {},
   "source": [
    "### Calculations"
   ]
  },
  {
   "cell_type": "code",
   "execution_count": null,
   "id": "b12a44f8-7d51-458e-b550-dec2b888451b",
   "metadata": {},
   "outputs": [],
   "source": [
    "x_1 = np.array([1, 2, 3])\n",
    "x_2 = np.array([1, 2, 3])\n",
    "two_sample_t_test(x_1, x_2, two_tailed=, h1_param_greater_theta=, alpha=)"
   ]
  },
  {
   "cell_type": "code",
   "execution_count": null,
   "id": "62f62948-e735-4083-adf4-0bb00db047b6",
   "metadata": {},
   "outputs": [],
   "source": []
  },
  {
   "cell_type": "markdown",
   "id": "78fcc854-265e-4d7e-9dbb-b8645427d31e",
   "metadata": {
    "jp-MarkdownHeadingCollapsed": true,
    "tags": []
   },
   "source": [
    "## Test for proportions\n",
    "Objective: Test hypothesis about population proportion $\\theta$ based on one sample"
   ]
  },
  {
   "cell_type": "markdown",
   "id": "80b7cec5-ff1f-48e0-a9c3-3bda03bc1cec",
   "metadata": {},
   "source": [
    "Key questions:\n",
    "    \n",
    "- Two-tailed: Does population proportion $\\theta$ deviate from a hypothesized proportion $\\theta_0$?\n",
    "    \n",
    "- One-tailed: Is population proportion $\\theta$ larger or smaller than a hypothesized proportion $\\theta_0$?\n",
    "    \n",
    "Hypotheses (two-tailed):\n",
    "\n",
    "- $H_0: \\theta = \\theta_0$\n",
    "\n",
    "- $H_1: \\theta \\neq \\theta_0$\n",
    "\n",
    "Test statistic: $z = \\frac{P - \\theta_0}{\\sqrt{  \\frac{\\theta_0 * (1 - \\theta_0)}{n}  }}$ , with observed proportion $P$\n",
    "\n",
    "If $H_0$ is true and it holds that $n*\\theta_0(1-\\theta_0) \\geq 9$, the test statistic is approximately normally distributed. Otherwise, an exact approach using the binomial distribution is needed."
   ]
  },
  {
   "cell_type": "code",
   "execution_count": 11,
   "id": "8607fc38-781f-4527-a30e-15497c12af19",
   "metadata": {
    "tags": []
   },
   "outputs": [],
   "source": [
    "def one_sample_test_of_proportions(P: float, n: int, population_proportion: float, two_tailed: bool = True, h1_param_greater_theta: bool = None, alpha: float = 0.05):\n",
    "    assert 0 < alpha < 1, \"Aplha has to be between 0 and 1\"\n",
    "    assert not two_tailed or (h1_param_greater_theta == None), \"You cannot do a two tailed t-test and provide a value for the 'h1_param_greater_theta' parameter\"\n",
    "    assert two_tailed or (h1_param_greater_theta != None), \"You have to either set the 'two_tailed' parameter to true or provide the 'h1_param_greater_theta' parameter\"\n",
    "    assert 0 < P < 1, \"'P' has to be between 0 and 1\"\n",
    "    assert 0 < population_proportion < 1, \"'population_proportion' has to be between 0 and 1\"\n",
    "    \n",
    "    z_val = (P-population_proportion)/(np.sqrt((population_proportion * (1-population_proportion))/n))\n",
    "    z_prob = stats.distributions.norm.cdf(-np.abs(z_val))\n",
    "    \n",
    "    \n",
    "    if two_tailed:\n",
    "        hypothesis = f\"$H_0: \\\\theta = \\\\theta_0, H_1: \\\\theta \\\\neq \\\\theta_0, \\\\alpha = {alpha}$\"\n",
    "        critical_values = stats.distributions.norm.interval(1-alpha)\n",
    "        z_prob *= 2\n",
    "    else:\n",
    "        if h1_param_greater_theta:\n",
    "            hypothesis = f\"$H_0: \\\\theta \\leq \\\\theta_0, H_1: \\\\theta \\\\gt \\\\theta_0, \\\\alpha = {alpha}$\"\n",
    "            c, _ = stats.distributions.norm.interval(1-(alpha*2))\n",
    "        else:\n",
    "            hypothesis = f\"$H_0: \\\\theta \\geq \\\\theta_0, H_1: \\\\theta \\\\lt \\\\theta_0, \\\\alpha = {alpha}$\"\n",
    "            _, c = stats.distributions.norm.interval(1-(alpha*2))\n",
    "        critical_values = (c,)\n",
    "    display_results(hypothesis, \"Test of proportions\", critical_values_string(critical_values), f\"$z={z_val}$\", conclude(critical_values, z_val, two_tailed=two_tailed, h1_param_greater_theta=h1_param_greater_theta, test_statistic_symbol='z'))\n",
    "    display(Markdown(f\"*Additional results:    $p = {z_prob}$*\"))\n",
    "    display(Markdown(f\"<span style='color: #ff0000'>Attention: $n * \\\\theta_0*(\\\\theta_0-1) \\geq 9$ needed for normal distribution! **Here: {n*population_proportion*(1-population_proportion)}**</span>\"))\n",
    "    return z_val, z_prob"
   ]
  },
  {
   "cell_type": "markdown",
   "id": "a74a02ef-53db-4002-961b-003d803a16e6",
   "metadata": {
    "tags": []
   },
   "source": [
    "### Examples"
   ]
  },
  {
   "cell_type": "code",
   "execution_count": 12,
   "id": "7468c889-05a4-4380-a613-10e626b67ce6",
   "metadata": {
    "tags": []
   },
   "outputs": [
    {
     "data": {
      "text/markdown": [
       "**Hypothesis:** $H_0: \\theta \\leq \\theta_0, H_1: \\theta \\gt \\theta_0, \\alpha = 0.05$\n",
       "\n",
       "**Suitable Test:** Test of proportions\n",
       "\n",
       "**Critical value(-s):** $C = -1.6448536269514729$\n",
       "\n",
       "**Test statistic:** $z=-2.868449058289164$\n",
       "\n",
       "**Conclusion:** Reject $H_0$ because $t = -2.868449058289164 \\lt -1.6448536269514729 = C$"
      ],
      "text/plain": [
       "<IPython.core.display.Markdown object>"
      ]
     },
     "metadata": {},
     "output_type": "display_data"
    },
    {
     "data": {
      "text/markdown": [
       "*Additional results:    $p = 0.0020624480892897866$*"
      ],
      "text/plain": [
       "<IPython.core.display.Markdown object>"
      ]
     },
     "metadata": {},
     "output_type": "display_data"
    },
    {
     "data": {
      "text/markdown": [
       "<span style='color: #ff0000'>Attention: $n * \\theta_0*(\\theta_0-1) \\geq 9$ needed for normal distribution! **Here: 75.55555555555556**</span>"
      ],
      "text/plain": [
       "<IPython.core.display.Markdown object>"
      ]
     },
     "metadata": {},
     "output_type": "display_data"
    },
    {
     "data": {
      "text/plain": [
       "(-2.868449058289164, 0.0020624480892897866)"
      ]
     },
     "execution_count": 12,
     "metadata": {},
     "output_type": "execute_result"
    }
   ],
   "source": [
    "one_sample_test_of_proportions(.26, 340, 1/3, two_tailed=False, h1_param_greater_theta=True)"
   ]
  },
  {
   "cell_type": "markdown",
   "id": "e89d9b86-788f-4819-9cdd-d1edfe9bbf5f",
   "metadata": {
    "tags": []
   },
   "source": [
    "### Calculations"
   ]
  },
  {
   "cell_type": "code",
   "execution_count": null,
   "id": "e7691d1e-9843-46c1-b29d-1a6e78e446ee",
   "metadata": {},
   "outputs": [],
   "source": [
    "P = 0.1\n",
    "n = 100\n",
    "population_proportion = 1/6\n",
    "one_sample_test_of_proportions(P, n, population_proportion, two_tailed=, h1_param_greater_theta=, alpha=)"
   ]
  },
  {
   "cell_type": "code",
   "execution_count": null,
   "id": "5616e03c-7723-4d30-a3f8-5735ce530292",
   "metadata": {},
   "outputs": [],
   "source": []
  },
  {
   "cell_type": "markdown",
   "id": "3ce4bf5d-ae37-4433-b469-ddee67c3c358",
   "metadata": {
    "jp-MarkdownHeadingCollapsed": true,
    "tags": []
   },
   "source": [
    "## Two sample test for proportions\n",
    "Objective: Test hypotheses that compare population proportions between two independent samples from different populations"
   ]
  },
  {
   "cell_type": "markdown",
   "id": "91961871-91f9-4565-a32d-1d0346f6634a",
   "metadata": {},
   "source": [
    "Key questions:\n",
    "    \n",
    "- Two-tailed: Do population proportions $\\theta_1$ and $\\theta_2$ differ?\n",
    "    \n",
    "- One-tailed: Is population proportion $\\theta_1$ larger or smaller than population proportion $\\theta_2$?\n",
    "    \n",
    "Hypotheses (two-tailed):\n",
    "\n",
    "- $H_0: \\theta_1 = \\theta_2$\n",
    "\n",
    "- $H_1: \\theta_1 \\neq \\theta_2$\n",
    "\n",
    "Test statistic: $z = \\frac{P_1 - P_2}{\\sqrt{P(1-P)*( \\frac{1}{n_1} + \\frac{1}{n_2} )}}$ , where $P = \\frac{P_1n_1+P_2n_2}{n_1+n_2}$\n",
    "\n",
    "If $H_0$ is true and $n_1,n_2 \\geq 30$, the test statistic is approximately normally distributed."
   ]
  },
  {
   "cell_type": "code",
   "execution_count": 13,
   "id": "122a0241-5210-4690-bbd5-6cc5d0f6e0b4",
   "metadata": {
    "tags": []
   },
   "outputs": [],
   "source": [
    "def two_sample_test_of_proportions(x_1: int, x_2: int, n_1: int, n_2, two_tailed: bool = True, h1_param_greater_theta: bool = None, alpha: float = 0.05):\n",
    "    assert 0 < alpha < 1, \"Aplha has to be between 0 and 1\"\n",
    "    assert not two_tailed or (h1_param_greater_theta == None), \"You cannot do a two tailed t-test and provide a value for the 'h1_param_greater_theta' parameter\"\n",
    "    assert two_tailed or (h1_param_greater_theta != None), \"You have to either set the 'two_tailed' parameter to true or provide the 'h1_param_greater_theta' parameter\"\n",
    "    assert type(x_1) == type(x_2), \"Both parameters 'x_1' and 'x_2' have to be of the same type integer or float\"\n",
    "    assert type(x_1) == int or type(x_1) == float, \"Parameters 'x_1' and 'x_2' have to be of int or float type\"\n",
    "    \n",
    "    if type(x_1) == float:\n",
    "        assert 0 <= x_1 <= 1 and 0 <= x_2 <= 1, \"Float parameters 'x_1' and 'x_2' have to be between zero and one\"\n",
    "        x_1 *= n_1\n",
    "        x_2 *= n_2\n",
    "    \n",
    "    avg_p = (x_1 + x_2) / (n_1 + n_2)\n",
    "    z_val = (x_1/n_1 - x_2/n_2) / np.sqrt(avg_p * (1-avg_p) * (1/n_1 + 1/n_2))\n",
    "    z_prob = stats.distributions.norm.cdf(-np.abs(z_val))\n",
    "    \n",
    "    \n",
    "    if two_tailed:\n",
    "        hypothesis = f\"$H_0: \\\\theta_1 = \\\\theta_2, H_1: \\\\theta_1 \\\\neq \\\\theta_2, \\\\alpha = {alpha}$\"\n",
    "        critical_values = stats.distributions.norm.interval(1-alpha)\n",
    "        z_prob *= 2\n",
    "    else:\n",
    "        if h1_param_greater_theta:\n",
    "            hypothesis = f\"$H_0: \\\\theta_1 \\leq \\\\theta_2, H_1: \\\\theta_1 \\\\gt \\\\theta_2, \\\\alpha = {alpha}$\"\n",
    "            c, _ = stats.distributions.norm.interval(1-(alpha*2))\n",
    "        else:\n",
    "            hypothesis = f\"$H_0: \\\\theta_1 \\geq \\\\theta_2, H_1: \\\\theta_1 \\\\lt \\\\theta_2, \\\\alpha = {alpha}$\"\n",
    "            _, c = stats.distributions.norm.interval(1-(alpha*2))\n",
    "        critical_values = (c,)\n",
    "    display_results(hypothesis, \"Two sample test of proportions\", critical_values_string(critical_values), f\"$z={z_val}$\", conclude(critical_values, z_val, two_tailed=two_tailed, h1_param_greater_theta=h1_param_greater_theta, test_statistic_symbol='z'))\n",
    "    display(Markdown(f\"*Additional results:    $p = {z_prob}$*\"))\n",
    "    display(Markdown(\"<span style='color: #ff0000'>Attention: $n_1,n_2 \\geq 30$ needed for normal distribution!</span>\"))\n",
    "    return z_val, z_prob"
   ]
  },
  {
   "cell_type": "markdown",
   "id": "3bfa912e-fba4-43f8-960e-9467980a0488",
   "metadata": {},
   "source": [
    "### Examples"
   ]
  },
  {
   "cell_type": "code",
   "execution_count": 14,
   "id": "5c68d1b4-06d6-4476-940d-908ecd31d918",
   "metadata": {
    "tags": []
   },
   "outputs": [
    {
     "data": {
      "text/markdown": [
       "**Hypothesis:** $H_0: \\theta_1 \\geq \\theta_2, H_1: \\theta_1 \\lt \\theta_2, \\alpha = 0.05$\n",
       "\n",
       "**Suitable Test:** Two sample test of proportions\n",
       "\n",
       "**Critical value(-s):** $C = 1.6448536269514722$\n",
       "\n",
       "**Test statistic:** $z=1.7952880715638093$\n",
       "\n",
       "**Conclusion:** Reject $H_0$ because $t = 1.7952880715638093 \\gt 1.6448536269514722 = C$"
      ],
      "text/plain": [
       "<IPython.core.display.Markdown object>"
      ]
     },
     "metadata": {},
     "output_type": "display_data"
    },
    {
     "data": {
      "text/markdown": [
       "*Additional results:    $p = 0.03630390727849902$*"
      ],
      "text/plain": [
       "<IPython.core.display.Markdown object>"
      ]
     },
     "metadata": {},
     "output_type": "display_data"
    },
    {
     "data": {
      "text/markdown": [
       "<span style='color: #ff0000'>Attention: $n_1,n_2 \\geq 30$ needed for normal distribution!</span>"
      ],
      "text/plain": [
       "<IPython.core.display.Markdown object>"
      ]
     },
     "metadata": {},
     "output_type": "display_data"
    },
    {
     "data": {
      "text/plain": [
       "(1.7952880715638093, 0.03630390727849902)"
      ]
     },
     "execution_count": 14,
     "metadata": {},
     "output_type": "execute_result"
    }
   ],
   "source": [
    "two_sample_test_of_proportions(.26, .19, 252, 214, two_tailed=False, h1_param_greater_theta=False)"
   ]
  },
  {
   "cell_type": "code",
   "execution_count": 15,
   "id": "a15bff8f-6657-4394-b33e-3d292fb3d54c",
   "metadata": {
    "tags": []
   },
   "outputs": [
    {
     "data": {
      "text/markdown": [
       "**Hypothesis:** $H_0: \\theta_1 \\geq \\theta_2, H_1: \\theta_1 \\lt \\theta_2, \\alpha = 0.05$\n",
       "\n",
       "**Suitable Test:** Two sample test of proportions\n",
       "\n",
       "**Critical value(-s):** $C = 1.6448536269514722$\n",
       "\n",
       "**Test statistic:** $z=0.8381580761249496$\n",
       "\n",
       "**Conclusion:** Since $0.8381580761249496 \\ngtr 1.6448536269514722 = C$ we cannot reject $H_0$"
      ],
      "text/plain": [
       "<IPython.core.display.Markdown object>"
      ]
     },
     "metadata": {},
     "output_type": "display_data"
    },
    {
     "data": {
      "text/markdown": [
       "*Additional results:    $p = 0.2009709646021316$*"
      ],
      "text/plain": [
       "<IPython.core.display.Markdown object>"
      ]
     },
     "metadata": {},
     "output_type": "display_data"
    },
    {
     "data": {
      "text/markdown": [
       "<span style='color: #ff0000'>Attention: $n_1,n_2 \\geq 30$ needed for normal distribution!</span>"
      ],
      "text/plain": [
       "<IPython.core.display.Markdown object>"
      ]
     },
     "metadata": {},
     "output_type": "display_data"
    },
    {
     "data": {
      "text/plain": [
       "(0.8381580761249496, 0.2009709646021316)"
      ]
     },
     "execution_count": 15,
     "metadata": {},
     "output_type": "execute_result"
    }
   ],
   "source": [
    "two_sample_test_of_proportions(.26, .19, 50, 50, two_tailed=False, h1_param_greater_theta=False)"
   ]
  },
  {
   "cell_type": "code",
   "execution_count": 16,
   "id": "ec71354f-86e1-4e74-a06b-9aabcfcc9c76",
   "metadata": {
    "tags": []
   },
   "outputs": [
    {
     "data": {
      "text/markdown": [
       "**Hypothesis:** $H_0: \\theta_1 \\geq \\theta_2, H_1: \\theta_1 \\lt \\theta_2, \\alpha = 0.05$\n",
       "\n",
       "**Suitable Test:** Two sample test of proportions\n",
       "\n",
       "**Critical value(-s):** $C = 1.6448536269514722$\n",
       "\n",
       "**Test statistic:** $z=1.798518944675899$\n",
       "\n",
       "**Conclusion:** Reject $H_0$ because $t = 1.798518944675899 \\gt 1.6448536269514722 = C$"
      ],
      "text/plain": [
       "<IPython.core.display.Markdown object>"
      ]
     },
     "metadata": {},
     "output_type": "display_data"
    },
    {
     "data": {
      "text/markdown": [
       "*Additional results:    $p = 0.03604740462220061$*"
      ],
      "text/plain": [
       "<IPython.core.display.Markdown object>"
      ]
     },
     "metadata": {},
     "output_type": "display_data"
    },
    {
     "data": {
      "text/markdown": [
       "<span style='color: #ff0000'>Attention: $n_1,n_2 \\geq 30$ needed for normal distribution!</span>"
      ],
      "text/plain": [
       "<IPython.core.display.Markdown object>"
      ]
     },
     "metadata": {},
     "output_type": "display_data"
    },
    {
     "data": {
      "text/plain": [
       "(1.798518944675899, 0.03604740462220061)"
      ]
     },
     "execution_count": 16,
     "metadata": {},
     "output_type": "execute_result"
    }
   ],
   "source": [
    "two_sample_test_of_proportions(66, 41, 252, 214, two_tailed=False, h1_param_greater_theta=False)"
   ]
  },
  {
   "cell_type": "markdown",
   "id": "9f36601d-cf09-4c74-802a-f88d7d7f075c",
   "metadata": {},
   "source": [
    "### Calculations"
   ]
  },
  {
   "cell_type": "code",
   "execution_count": null,
   "id": "35e548eb-c8d8-413d-bb09-6f6173d3a14a",
   "metadata": {
    "tags": []
   },
   "outputs": [],
   "source": [
    "x_1 = 20   # Either number of positives as integer\n",
    "x_2 = 0.25 # Or proportian as float between 0 and 1\n",
    "n_1 = 80\n",
    "n_2 = 100\n",
    "two_sample_test_of_proportions(x_1, x_2, n_1, n_2, two_tailed=, h1_param_greater_theta=, alpha=)"
   ]
  },
  {
   "cell_type": "code",
   "execution_count": null,
   "id": "005d5abc-7484-4ae6-a776-0df26d64f6d5",
   "metadata": {},
   "outputs": [],
   "source": []
  },
  {
   "cell_type": "markdown",
   "id": "700aefbf-557a-4235-ac2f-ee283a394a17",
   "metadata": {
    "jp-MarkdownHeadingCollapsed": true,
    "tags": []
   },
   "source": [
    "## t-test for independence\n",
    "Objective: Test hypotheses about population correlation $\\rho$"
   ]
  },
  {
   "cell_type": "markdown",
   "id": "765d5aab-cdfb-4306-85c4-0c6bddf6ba7c",
   "metadata": {},
   "source": [
    "Key questions:\n",
    "    \n",
    "- Two-tailed: Is the population correlation $\\rho$ differnt from $0$?\n",
    "    \n",
    "- One-tailed: Is the population correlation $\\rho$ smaller or larger than $0$?\n",
    "    \n",
    "Hypotheses (two-tailed):\n",
    "\n",
    "- $H_0: \\rho = 0$\n",
    "\n",
    "- $H_1: \\rho \\neq 0$\n",
    "\n",
    "Test statistic: $t = \\frac{r}{\\sqrt{1-r^2}}\\sqrt{n-2}$ , with pearsons $r$\n",
    "\n",
    "If $H_0$ is true, the test statistic follows a t-distribution with $df = n - 2$"
   ]
  },
  {
   "cell_type": "code",
   "execution_count": 17,
   "id": "1cf1ea40-51fe-4c91-a5e6-9dcc370109de",
   "metadata": {
    "tags": []
   },
   "outputs": [],
   "source": [
    "def t_test_for_independence(x_1: np.ndarray, x_2: np.ndarray, two_tailed: bool = True, h1_param_greater_theta: bool = None, alpha: float = 0.05):\n",
    "    assert 0 < alpha < 1, \"Aplha has to be between 0 and 1\"\n",
    "    assert not two_tailed or (h1_param_greater_theta == None), \"You cannot do a two tailed t-test and provide a value for the 'h1_param_greater_theta' parameter\"\n",
    "    assert two_tailed or (h1_param_greater_theta != None), \"You have to either set the 'two_tailed' parameter to true or provide the 'h1_param_greater_theta' parameter\"\n",
    "    \n",
    "    df = len(x_1) - 2\n",
    "    \n",
    "    if two_tailed:\n",
    "        r, p = stats.pearsonr(x_1, x_2, alternative='two-sided')\n",
    "        hypothesis = f\"$H_0: \\\\rho = 0, H_1: \\\\rho \\\\neq 0, \\\\alpha = {alpha}$\"\n",
    "        critical_values = stats.distributions.t.interval(1-alpha, df)\n",
    "    else:\n",
    "        if h1_param_greater_theta:\n",
    "            r, p = stats.pearsonr(x_1, x_2, alternative='less')\n",
    "            hypothesis = f\"$H_0: \\\\rho \\leq 0, H_1: \\\\rho \\\\gt 0, \\\\alpha = {alpha}$\"\n",
    "            c, _ = stats.distributions.t.interval(1-(alpha*2), df)\n",
    "        else:\n",
    "            r, p = stats.pearsonr(x_1, x_2, alternative='greater')\n",
    "            hypothesis = f\"$H_0: \\\\rho \\geq 0, H_1: \\\\rho \\\\lt 0, \\\\alpha = {alpha}$\"\n",
    "            _, c = stats.distributions.t.interval(1-(alpha*2), df)\n",
    "        critical_values = (c,)\n",
    "    \n",
    "    t_val = r/(np.sqrt(1-r**2))*np.sqrt(len(x_1)-2)\n",
    "    \n",
    "    display_results(hypothesis, \"t-test for independence\", critical_values_string(critical_values), f\"$t={t_val}$\", conclude(critical_values, t_val, two_tailed=two_tailed, h1_param_greater_theta=h1_param_greater_theta, test_statistic_symbol='t'))\n",
    "    display(Markdown(f\"*Additional results:    $p = {p}$    $df= {df}$*\"))\n",
    "    return t_val, p"
   ]
  },
  {
   "cell_type": "markdown",
   "id": "47edefe9-85a2-4fb2-bac6-75daee7809a1",
   "metadata": {},
   "source": [
    "### Examples"
   ]
  },
  {
   "cell_type": "code",
   "execution_count": 18,
   "id": "d8451222-11e5-4dfb-b6c6-39d49dec14f1",
   "metadata": {
    "tags": []
   },
   "outputs": [
    {
     "data": {
      "text/markdown": [
       "**Hypothesis:** $H_0: \\rho = 0, H_1: \\rho \\neq 0, \\alpha = 0.05$\n",
       "\n",
       "**Suitable Test:** t-test for independence\n",
       "\n",
       "**Critical value(-s):** $C_1 = -2.3060041350333704, C_2 = 2.3060041350333704$\n",
       "\n",
       "**Test statistic:** $t=5.783268809989026$\n",
       "\n",
       "**Conclusion:** Reject $H_0$ because $5.783268809989026 (\\lt|\\gt) (-2.3060041350333704|2.3060041350333704) = (C_1|C_2)$"
      ],
      "text/plain": [
       "<IPython.core.display.Markdown object>"
      ]
     },
     "metadata": {},
     "output_type": "display_data"
    },
    {
     "data": {
      "text/markdown": [
       "*Additional results:    $p = 0.00041297215588927003$    $df= 8$*"
      ],
      "text/plain": [
       "<IPython.core.display.Markdown object>"
      ]
     },
     "metadata": {},
     "output_type": "display_data"
    },
    {
     "data": {
      "text/plain": [
       "(5.783268809989026, 0.00041297215588927003)"
      ]
     },
     "execution_count": 18,
     "metadata": {},
     "output_type": "execute_result"
    }
   ],
   "source": [
    "x_1 = np.array([312, 462, 419, 433, 442, 305, 509, 287, 245, 457])\n",
    "x_2 = np.array([402, 456, 432, 476, 419, 340, 463, 360, 280, 500])\n",
    "t_test_for_independence(x_1, x_2, two_tailed=True)"
   ]
  },
  {
   "cell_type": "markdown",
   "id": "0a589bab-a66c-4d39-9bcb-5ffe394ef078",
   "metadata": {
    "tags": []
   },
   "source": [
    "### Calculations"
   ]
  },
  {
   "cell_type": "code",
   "execution_count": null,
   "id": "0dbb8c31-4cb9-4818-93a6-98050e6c2357",
   "metadata": {},
   "outputs": [],
   "source": [
    "x_1 = np.array([1,2,3])\n",
    "x_2 = np.array([1,2,3])\n",
    "t_test_for_independence(x_1, x_2, two_tailed=, small_than=,alpha=)"
   ]
  },
  {
   "cell_type": "code",
   "execution_count": null,
   "id": "cc602067-1670-4e46-9e93-73443f85f05d",
   "metadata": {},
   "outputs": [],
   "source": []
  },
  {
   "cell_type": "markdown",
   "id": "ea898c21-7b9b-40fd-bff7-fad7ef63fe3d",
   "metadata": {
    "jp-MarkdownHeadingCollapsed": true,
    "tags": []
   },
   "source": [
    "## $X^2$ test for goodness of fit\n",
    "Objective: Test hypotheses about whether a sample distribution of a categorical variable follows a hypothesized population distribution"
   ]
  },
  {
   "cell_type": "markdown",
   "id": "7f186cf2-7abb-43bf-a32f-613d8705c469",
   "metadata": {},
   "source": [
    "Key question:\n",
    "    \n",
    "- Is the distribution observed in the sample consistent with the distribution that is hypothesized to exist in the population?\n",
    "    \n",
    "Hypotheses (two-tailed logic only):\n",
    "\n",
    "- $H_0:$ Sample distribution and population distribution are consistent\n",
    "\n",
    "- $H_1:$ Sample distribution and population distribution are inconsistent\n",
    "\n",
    "Test statistic: $\\chi^2 = \\sum_{i=1}^k \\frac{(h_i-n * p_i)^2}{n*p_i}$ , with \n",
    "\n",
    "- $h_i:$ empirically observed frequency of category $i$\n",
    "- $p_i:$ probability from hypothesized distribution to observe category $i$\n",
    "- $n:$ sample size\n",
    "\n",
    "\n",
    "If $H_0$ is true, the test statistic is $X^2$-distributed with $df = k - 1$\n",
    "\n",
    "**Use Only of for all categories $n*p_i \\geq 5$, otherwise merge categories**"
   ]
  },
  {
   "cell_type": "code",
   "execution_count": 7,
   "id": "e59c7296-7eb2-4fae-8f47-de31693903a9",
   "metadata": {},
   "outputs": [],
   "source": [
    "def chi_square_test_goodness_of_fit(observed_frequencies: np.ndarray, expected_frequencies: np.ndarray = None, alpha: float = 0.05):\n",
    "    assert 0 < alpha < 1, \"Aplha has to be between 0 and 1\"\n",
    "    assert (expected_frequencies is None) or (len(observed_frequencies) == len(expected_frequencies) and np.sum(observed_frequencies) == np.sum(expected_frequencies)), \"observed and expected frequencies shoudl have the same dimensions and sum up to the same value\"\n",
    "    \n",
    "    if expected_frequencies is None:\n",
    "        n = np.sum(observed_frequencies)\n",
    "        p_i = 1/len(observed_frequencies) # Equal distribution over nominal categories\n",
    "        if n * p_i < 5:\n",
    "            display(Markdown(f\"$n * p_i = {n * p_i} < 5$ => **Merge categories before you continue!**\"))\n",
    "            return\n",
    "    else:\n",
    "        for value in expected_frequencies:\n",
    "            if value < 5:\n",
    "                display(Markdown(f\"$n * p_i = {value} < 5$ => **Merge categories before you continue!**\"))\n",
    "                return\n",
    "    \n",
    "    hypothesis = f\"$H_0:$ Sample distribution and population distribution are consistent, $H_1:$ Sample distribution and population distribution are inconsistent, $\\\\alpha = {alpha}$\"\n",
    "    df = len(observed_frequencies) - 1\n",
    "    X2, p = stats.chisquare(observed_frequencies, expected_frequencies)\n",
    "    critical_values = stats.distributions.chi2.interval(1-2*alpha, df)\n",
    "    \n",
    "    display_results(hypothesis, \"Chi-square test for goodness of fit\", critical_values_string(critical_values), f\"$\\chi^2={X2}$\", conclude(critical_values, X2, two_tailed=True, test_statistic_symbol='\\chi^2'))\n",
    "    display(Markdown(f\"*Additional results: $p = {p}$* $df = {df}$\"))\n",
    "    return X2, p"
   ]
  },
  {
   "cell_type": "markdown",
   "id": "80375cbd-f9c3-4a9f-a15f-b97dca99a750",
   "metadata": {
    "tags": []
   },
   "source": [
    "### Examples"
   ]
  },
  {
   "cell_type": "code",
   "execution_count": 20,
   "id": "232072ee-8fd2-4bbf-a8af-3605eb2316a2",
   "metadata": {},
   "outputs": [
    {
     "data": {
      "text/markdown": [
       "**Hypothesis:** $H_0:$ Sample distribution and population distribution are consistent, $H_1:$ Sample distribution and population distribution are inconsistent, $\\alpha = 0.05$\n",
       "\n",
       "**Suitable Test:** Chi-square test for goodness of fit\n",
       "\n",
       "**Critical value(-s):** $C_1 = 0.10258658877510106, C_2 = 5.991464547107979$\n",
       "\n",
       "**Test statistic:** $\\chi^2=14.0$\n",
       "\n",
       "**Conclusion:** Reject $H_0$ because $14.0 (\\lt|\\gt) (0.10258658877510106|5.991464547107979) = (C_1|C_2)$"
      ],
      "text/plain": [
       "<IPython.core.display.Markdown object>"
      ]
     },
     "metadata": {},
     "output_type": "display_data"
    },
    {
     "data": {
      "text/markdown": [
       "*Additional results: $p = 0.0009118819655545164$* $df = 2$"
      ],
      "text/plain": [
       "<IPython.core.display.Markdown object>"
      ]
     },
     "metadata": {},
     "output_type": "display_data"
    },
    {
     "data": {
      "text/plain": [
       "(14.0, 0.0009118819655545164)"
      ]
     },
     "execution_count": 20,
     "metadata": {},
     "output_type": "execute_result"
    }
   ],
   "source": [
    "m_graduates = np.array([35, 10, 30])\n",
    "m_graduates_expected = np.array([25, 25, 25]) # Actually not needed here, since equal distribution is assumed if no explicit distribution is provided\n",
    "\n",
    "chi_square_test_goodness_of_fit(observed_frequencies=m_graduates, expected_frequencies=m_graduates_expected, alpha=0.05)"
   ]
  },
  {
   "cell_type": "code",
   "execution_count": 9,
   "id": "d1d1e092-debc-4c70-81e2-f0388a273ef0",
   "metadata": {},
   "outputs": [
    {
     "data": {
      "text/markdown": [
       "**Hypothesis:** $H_0:$ Sample distribution and population distribution are consistent, $H_1:$ Sample distribution and population distribution are inconsistent, $\\alpha = 0.1$\n",
       "\n",
       "**Suitable Test:** Chi-square test for goodness of fit\n",
       "\n",
       "**Critical value(-s):** $C_1 = 1.0636232167792237, C_2 = 7.779440339734858$\n",
       "\n",
       "**Test statistic:** $\\chi^2=36.33555214200378$\n",
       "\n",
       "**Conclusion:** Reject $H_0$ because $36.33555214200378 (\\lt|\\gt) (1.0636232167792237|7.779440339734858) = (C_1|C_2)$"
      ],
      "text/plain": [
       "<IPython.core.display.Markdown object>"
      ]
     },
     "metadata": {},
     "output_type": "display_data"
    },
    {
     "data": {
      "text/markdown": [
       "*Additional results: $p = 2.468350513808152e-07$* $df = 4$"
      ],
      "text/plain": [
       "<IPython.core.display.Markdown object>"
      ]
     },
     "metadata": {},
     "output_type": "display_data"
    },
    {
     "data": {
      "text/plain": [
       "(36.33555214200378, 2.468350513808152e-07)"
      ]
     },
     "execution_count": 9,
     "metadata": {},
     "output_type": "execute_result"
    }
   ],
   "source": [
    "polling_results = np.array([.36, .32, .07, .02, .23])\n",
    "last_election_results = np.array([.35, .31, .05, .02, .27])\n",
    "assert np.sum(polling_results) == 1 # Make sure that the precentages add up to one\n",
    "assert np.sum(last_election_results) == 1 # Make sure that the precentages add up to one\n",
    "polling_results = polling_results * 2500\n",
    "last_election_results = last_election_results * 2500\n",
    "\n",
    "chi_square_test_goodness_of_fit(observed_frequencies=polling_results, expected_frequencies=last_election_results, alpha=0.1)"
   ]
  },
  {
   "cell_type": "markdown",
   "id": "a43d55fb-b929-4bf1-b5fb-6975cbdbb4df",
   "metadata": {},
   "source": [
    "### Calculations"
   ]
  },
  {
   "cell_type": "code",
   "execution_count": null,
   "id": "262efa50-0413-4c06-9293-cb91cfb3b806",
   "metadata": {},
   "outputs": [],
   "source": [
    "observed_frequencies = np.array([1, 2, 3])\n",
    "expected_frequencies = np.array([1, 1, 1]) # Only needed if we do not expect equal frequencies\n",
    "\n",
    "chi_square_test_goodness_of_fit(observed_frequencies=observed_frequencies, expected_frequencies=expected_frequencies, alpha=)"
   ]
  },
  {
   "cell_type": "code",
   "execution_count": null,
   "id": "05e2a357-8c7a-42dc-9681-fdc923e7f036",
   "metadata": {},
   "outputs": [],
   "source": []
  },
  {
   "cell_type": "markdown",
   "id": "be597b7c-dfc0-4ccb-9552-7942f348d208",
   "metadata": {
    "jp-MarkdownHeadingCollapsed": true,
    "tags": []
   },
   "source": [
    "## $X^2$ test for independence\n",
    "Objective: Test hypotheses whether two categorical (nominally scaled) variables are independent in the population"
   ]
  },
  {
   "cell_type": "markdown",
   "id": "2a60d669-c8b4-4c46-a973-8a12bbcdd10a",
   "metadata": {},
   "source": [
    "Key question:\n",
    "    \n",
    "- Are two nominally scaled variables independent of each other?\n",
    "\n",
    "Input:\n",
    "\n",
    "- Contingency table showing observed frequencies of both variables A and B with their categories $A_i (i=1,...,r)$ and $B_j (j = 1,...,s)$\n",
    "    \n",
    "Hypotheses (two-tailed logic only):\n",
    "\n",
    "- $H_0:$ Both variables are independent from each other\n",
    "\n",
    "- $H_1:$ Both variables are not independent from each other\n",
    "\n",
    "Test statistic: $\\chi^2 = \\sum_{i=1}^r\\sum_{j=1}^s \\frac{(h_{ij}-n*p_i*p_j)^2}{n*p_i*p_j}$ , with \n",
    "\n",
    "- $h_{ij}:$ empirically observed frequency of cell $ij$\n",
    "- $p_i:$ overall empirical relative frequency of observing row $i$\n",
    "- $p_j:$ overall empirical relative frequency of observing column $j$\n",
    "- $n:$ sample size (overall)\n",
    "\n",
    "\n",
    "If $H_0$ is true, the test statistic is $X^2$-distributed with $df = (r - 1)*(s-1)$\n",
    "\n",
    "**Use Only of for all categories $n*p_i*p_j \\geq 5$, otherwise merge categories**"
   ]
  },
  {
   "cell_type": "code",
   "execution_count": 21,
   "id": "ec140c8f-2c11-4cb5-85a5-2619b1d068a1",
   "metadata": {},
   "outputs": [],
   "source": [
    "def chi_square_test_independence(observations: np.ndarray, alpha: float = 0.05):\n",
    "    assert 0 < alpha < 1, \"Aplha has to be between 0 and 1\"\n",
    "    \n",
    "    n = np.sum(observations)\n",
    "    \n",
    "    sum_rows = np.sum(observations, axis=1)[:, np.newaxis]\n",
    "    sum_cols = np.sum(observations, axis=0)[np.newaxis, :]\n",
    "    p_rows = sum_rows / np.sum(sum_rows)\n",
    "    p_cols = sum_cols / np.sum(sum_cols)\n",
    "    \n",
    "    theoretical_frequencies = n * p_rows * p_cols\n",
    "    \n",
    "    addend = (observations - theoretical_frequencies)**2 / theoretical_frequencies\n",
    "    \n",
    "    X2 = np.sum(addend)\n",
    "    \n",
    "    df = (observations.shape[0] - 1) * (observations.shape[1] - 1)\n",
    "    critical_values = stats.distributions.chi2.interval(1-2*alpha, df)\n",
    "    p = 1-stats.distributions.chi2.cdf(X2, df)\n",
    "    \n",
    "    if np.any(theoretical_frequencies < 5):\n",
    "        display(Markdown(f\"There is a category with $n * p_i * p_j < 5$ => **Merge categories before you continue!**\\n\\n Theoretical frequencies:\"))\n",
    "        display(pd.DataFrame(theoretical_frequencies))\n",
    "        return\n",
    "    \n",
    "    hypothesis = f\"$H_0:$ Both variables are independent from each other, $H_1:$ Both variables are not independent from each other, $\\\\alpha = {alpha}$\"\n",
    "    \n",
    "    display_results(hypothesis, \"Chi-square test for goodness of fit\", critical_values_string(critical_values), f\"$\\chi^2={X2}$\", conclude(critical_values, X2, two_tailed=True, test_statistic_symbol='\\chi^2'))\n",
    "    display(Markdown(f\"*Additional results:    $p = {p}$    $df = {df}$*\"), Markdown(\"**Theoretical frequencies:**\"), pd.DataFrame(theoretical_frequencies), Markdown(\"**Addend:**\"), pd.DataFrame(addend))\n",
    "    display(Markdown(f\"*Results of stats.chi2_contingency {stats.chi2_contingency(observations, correction=False)}*\"))\n",
    "    return X2, p"
   ]
  },
  {
   "cell_type": "markdown",
   "id": "362456a6-e7ef-4575-b94a-b67576a4dc23",
   "metadata": {},
   "source": [
    "### Examples"
   ]
  },
  {
   "cell_type": "code",
   "execution_count": 22,
   "id": "d298c12a-b05a-4ef9-9c7a-e9c6e7dfff89",
   "metadata": {
    "tags": []
   },
   "outputs": [
    {
     "data": {
      "text/markdown": [
       "**Hypothesis:** $H_0:$ Both variables are independent from each other, $H_1:$ Both variables are not independent from each other, $\\alpha = 0.05$\n",
       "\n",
       "**Suitable Test:** Chi-square test for goodness of fit\n",
       "\n",
       "**Critical value(-s):** $C_1 = 0.10258658877510106, C_2 = 5.991464547107979$\n",
       "\n",
       "**Test statistic:** $\\chi^2=18.966810966810968$\n",
       "\n",
       "**Conclusion:** Reject $H_0$ because $18.966810966810968 (\\lt|\\gt) (0.10258658877510106|5.991464547107979) = (C_1|C_2)$"
      ],
      "text/plain": [
       "<IPython.core.display.Markdown object>"
      ]
     },
     "metadata": {},
     "output_type": "display_data"
    },
    {
     "data": {
      "text/markdown": [
       "*Additional results:    $p = 7.610432334026473e-05$    $df = 2$*"
      ],
      "text/plain": [
       "<IPython.core.display.Markdown object>"
      ]
     },
     "metadata": {},
     "output_type": "display_data"
    },
    {
     "data": {
      "text/markdown": [
       "**Theoretical frequencies:**"
      ],
      "text/plain": [
       "<IPython.core.display.Markdown object>"
      ]
     },
     "metadata": {},
     "output_type": "display_data"
    },
    {
     "data": {
      "text/html": [
       "<div>\n",
       "<style scoped>\n",
       "    .dataframe tbody tr th:only-of-type {\n",
       "        vertical-align: middle;\n",
       "    }\n",
       "\n",
       "    .dataframe tbody tr th {\n",
       "        vertical-align: top;\n",
       "    }\n",
       "\n",
       "    .dataframe thead th {\n",
       "        text-align: right;\n",
       "    }\n",
       "</style>\n",
       "<table border=\"1\" class=\"dataframe\">\n",
       "  <thead>\n",
       "    <tr style=\"text-align: right;\">\n",
       "      <th></th>\n",
       "      <th>0</th>\n",
       "      <th>1</th>\n",
       "      <th>2</th>\n",
       "    </tr>\n",
       "  </thead>\n",
       "  <tbody>\n",
       "    <tr>\n",
       "      <th>0</th>\n",
       "      <td>34.375</td>\n",
       "      <td>18.75</td>\n",
       "      <td>21.875</td>\n",
       "    </tr>\n",
       "    <tr>\n",
       "      <th>1</th>\n",
       "      <td>20.625</td>\n",
       "      <td>11.25</td>\n",
       "      <td>13.125</td>\n",
       "    </tr>\n",
       "  </tbody>\n",
       "</table>\n",
       "</div>"
      ],
      "text/plain": [
       "        0      1       2\n",
       "0  34.375  18.75  21.875\n",
       "1  20.625  11.25  13.125"
      ]
     },
     "metadata": {},
     "output_type": "display_data"
    },
    {
     "data": {
      "text/markdown": [
       "**Addend:**"
      ],
      "text/plain": [
       "<IPython.core.display.Markdown object>"
      ]
     },
     "metadata": {},
     "output_type": "display_data"
    },
    {
     "data": {
      "text/html": [
       "<div>\n",
       "<style scoped>\n",
       "    .dataframe tbody tr th:only-of-type {\n",
       "        vertical-align: middle;\n",
       "    }\n",
       "\n",
       "    .dataframe tbody tr th {\n",
       "        vertical-align: top;\n",
       "    }\n",
       "\n",
       "    .dataframe thead th {\n",
       "        text-align: right;\n",
       "    }\n",
       "</style>\n",
       "<table border=\"1\" class=\"dataframe\">\n",
       "  <thead>\n",
       "    <tr style=\"text-align: right;\">\n",
       "      <th></th>\n",
       "      <th>0</th>\n",
       "      <th>1</th>\n",
       "      <th>2</th>\n",
       "    </tr>\n",
       "  </thead>\n",
       "  <tbody>\n",
       "    <tr>\n",
       "      <th>0</th>\n",
       "      <td>0.011364</td>\n",
       "      <td>4.083333</td>\n",
       "      <td>3.017857</td>\n",
       "    </tr>\n",
       "    <tr>\n",
       "      <th>1</th>\n",
       "      <td>0.018939</td>\n",
       "      <td>6.805556</td>\n",
       "      <td>5.029762</td>\n",
       "    </tr>\n",
       "  </tbody>\n",
       "</table>\n",
       "</div>"
      ],
      "text/plain": [
       "          0         1         2\n",
       "0  0.011364  4.083333  3.017857\n",
       "1  0.018939  6.805556  5.029762"
      ]
     },
     "metadata": {},
     "output_type": "display_data"
    },
    {
     "data": {
      "text/markdown": [
       "*Results of stats.chi2_contingency Chi2ContingencyResult(statistic=18.966810966810968, pvalue=7.610432334029914e-05, dof=2, expected_freq=array([[34.375, 18.75 , 21.875],\n",
       "       [20.625, 11.25 , 13.125]]))*"
      ],
      "text/plain": [
       "<IPython.core.display.Markdown object>"
      ]
     },
     "metadata": {},
     "output_type": "display_data"
    },
    {
     "data": {
      "text/plain": [
       "(18.966810966810968, 7.610432334026473e-05)"
      ]
     },
     "execution_count": 22,
     "metadata": {},
     "output_type": "execute_result"
    }
   ],
   "source": [
    "observations = np.array(([35, 10, 30], [20, 20, 5]))\n",
    "chi_square_test_independence(observations)"
   ]
  },
  {
   "cell_type": "code",
   "execution_count": null,
   "id": "aaacb50f-e7eb-4529-bf1d-22d9f38fde75",
   "metadata": {},
   "outputs": [],
   "source": []
  },
  {
   "cell_type": "markdown",
   "id": "e8206ee3-45f4-43db-adfe-b6432275cec6",
   "metadata": {
    "tags": []
   },
   "source": [
    "### Calculations"
   ]
  },
  {
   "cell_type": "code",
   "execution_count": null,
   "id": "4f860420-2209-49e5-9295-c3b89b52bf7f",
   "metadata": {},
   "outputs": [],
   "source": [
    "observations = np.array([[1,2,3],[1,2,3]])\n",
    "chi_square_test_independence(observations, alpha=)"
   ]
  },
  {
   "cell_type": "code",
   "execution_count": null,
   "id": "a3edd54e-5ec1-4c82-8922-b14b1e9a205f",
   "metadata": {},
   "outputs": [],
   "source": []
  },
  {
   "cell_type": "markdown",
   "id": "15529d86-e6ae-4eb8-a835-76c12e8fb9c1",
   "metadata": {
    "tags": []
   },
   "source": [
    "## Room for free calculations"
   ]
  },
  {
   "cell_type": "code",
   "execution_count": null,
   "id": "269a8a2c-dee7-4bf4-976f-f544bd403660",
   "metadata": {},
   "outputs": [],
   "source": []
  }
 ],
 "metadata": {
  "kernelspec": {
   "display_name": "Python 3 (ipykernel)",
   "language": "python",
   "name": "python3"
  },
  "language_info": {
   "codemirror_mode": {
    "name": "ipython",
    "version": 3
   },
   "file_extension": ".py",
   "mimetype": "text/x-python",
   "name": "python",
   "nbconvert_exporter": "python",
   "pygments_lexer": "ipython3",
   "version": "3.11.4"
  }
 },
 "nbformat": 4,
 "nbformat_minor": 5
}
