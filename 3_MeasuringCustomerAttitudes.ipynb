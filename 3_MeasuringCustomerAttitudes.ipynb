{
 "cells": [
  {
   "cell_type": "code",
   "execution_count": 3,
   "id": "22237458-07e2-4a1a-93b8-91e9a045dfc5",
   "metadata": {
    "tags": []
   },
   "outputs": [],
   "source": [
    "import pandas as pd\n",
    "import numpy as np\n",
    "import scipy as sp\n",
    "from scipy import stats\n",
    "from IPython.display import display, Markdown, Latex"
   ]
  },
  {
   "cell_type": "code",
   "execution_count": null,
   "id": "d91bf1b3-8164-4b96-a862-0b451a5ea2bc",
   "metadata": {},
   "outputs": [],
   "source": []
  },
  {
   "cell_type": "markdown",
   "id": "6ae449f9-a7ff-4e7c-8d90-825108e16dcf",
   "metadata": {
    "jp-MarkdownHeadingCollapsed": true,
    "tags": []
   },
   "source": [
    "## Cronbachs Alpha"
   ]
  },
  {
   "cell_type": "markdown",
   "id": "904218d6-dbb5-4159-8be6-77f134ff06bd",
   "metadata": {},
   "source": [
    "Reliability in general:\n",
    "\n",
    "$Rel = \\frac{Var(t)}{Var(t) + Var(e)} = 1 -\\frac{Var(e)}{Var(t) + Var(e)}$\n",
    "\n",
    "Conbach's Alpha:\n",
    "\n",
    "$\\alpha = \\frac{m}{m-1} * \\left( 1 - \\frac{\\sum_{i=1}^m Var(x_i)}{Var(y)} \\right)$, with $y = \\sum_{i=1}^m x_i$\n",
    "\n",
    "Alternatively:\n",
    "\n",
    "$\\alpha = \\frac{m * \\overline{Cov}}{\\overline{Var} + (m-1) * \\overline{Cov}}$, with number of items $m$, average covariance of items $\\overline{Cov}$ and average variance of items $\\overline{Var}$\n",
    "\n",
    "**Threshold values:**\n",
    "- should be higher than .7\n",
    "- For new scales values above .6 are often acceptable\n",
    "\n",
    "**Interpretation:**\n",
    "- Share of variance of the composite explained by the true score\n",
    "- $\\alpha:$ expected the correlation of scale with other scales of similar reliability\n",
    "- $\\sqrt{\\alpha}$ corresponds to the correlation of the scale with the true score\n",
    "\n",
    "==> High score = reliability at construct level is good; Items have a high shared variance"
   ]
  },
  {
   "cell_type": "code",
   "execution_count": 14,
   "id": "70937782-a31c-4e79-9021-5fb072a8e895",
   "metadata": {
    "tags": []
   },
   "outputs": [
    {
     "data": {
      "text/markdown": [
       "Covariances:"
      ],
      "text/plain": [
       "<IPython.core.display.Markdown object>"
      ]
     },
     "metadata": {},
     "output_type": "display_data"
    },
    {
     "data": {
      "text/html": [
       "<div>\n",
       "<style scoped>\n",
       "    .dataframe tbody tr th:only-of-type {\n",
       "        vertical-align: middle;\n",
       "    }\n",
       "\n",
       "    .dataframe tbody tr th {\n",
       "        vertical-align: top;\n",
       "    }\n",
       "\n",
       "    .dataframe thead th {\n",
       "        text-align: right;\n",
       "    }\n",
       "</style>\n",
       "<table border=\"1\" class=\"dataframe\">\n",
       "  <thead>\n",
       "    <tr style=\"text-align: right;\">\n",
       "      <th></th>\n",
       "      <th>0</th>\n",
       "      <th>1</th>\n",
       "      <th>2</th>\n",
       "      <th>3</th>\n",
       "    </tr>\n",
       "  </thead>\n",
       "  <tbody>\n",
       "    <tr>\n",
       "      <th>0</th>\n",
       "      <td>1.823</td>\n",
       "      <td>0.000</td>\n",
       "      <td>0.000</td>\n",
       "      <td>0.000</td>\n",
       "    </tr>\n",
       "    <tr>\n",
       "      <th>1</th>\n",
       "      <td>1.089</td>\n",
       "      <td>1.254</td>\n",
       "      <td>0.000</td>\n",
       "      <td>0.000</td>\n",
       "    </tr>\n",
       "    <tr>\n",
       "      <th>2</th>\n",
       "      <td>0.899</td>\n",
       "      <td>0.895</td>\n",
       "      <td>1.232</td>\n",
       "      <td>0.000</td>\n",
       "    </tr>\n",
       "    <tr>\n",
       "      <th>3</th>\n",
       "      <td>1.060</td>\n",
       "      <td>0.776</td>\n",
       "      <td>0.940</td>\n",
       "      <td>2.372</td>\n",
       "    </tr>\n",
       "  </tbody>\n",
       "</table>\n",
       "</div>"
      ],
      "text/plain": [
       "       0      1      2      3\n",
       "0  1.823  0.000  0.000  0.000\n",
       "1  1.089  1.254  0.000  0.000\n",
       "2  0.899  0.895  1.232  0.000\n",
       "3  1.060  0.776  0.940  2.372"
      ]
     },
     "metadata": {},
     "output_type": "display_data"
    },
    {
     "data": {
      "text/markdown": [
       "$\\alpha = 0.8384610974243325$,    with $\\overline{Var} = 1.67015$,  $\\overline{Cov} = 0.9432440000000001$"
      ],
      "text/plain": [
       "<IPython.core.display.Markdown object>"
      ]
     },
     "metadata": {},
     "output_type": "display_data"
    }
   ],
   "source": [
    "# Alternative way of calculation:\n",
    "means = np.array([5.57, 5.89, 6.19, 5.15])\n",
    "standard_deviations = np.array([1.35, 1.12, 1.11, 1.54])\n",
    "correlations = np.array([[1, 0, 0, 0], [0.72, 1, 0, 0], [0.6, 0.72, 1, 0], [0.51, 0.45, 0.55, 1]]) # Provide correlations are comment out and provide covariances directly below\n",
    "\n",
    "assert np.all(correlations <= 1)\n",
    "assert len(means) == len(standard_deviations)\n",
    "\n",
    "factor = np.array([standard_deviations]).transpose() * np.array([standard_deviations])\n",
    "covariances = factor * correlations\n",
    "\n",
    "m = len(means)\n",
    "mean_variance = np.mean(standard_deviations**2)\n",
    "covariances_lower_tria = np.tril(covariances, k=-1)\n",
    "mean_covariance = np.sum(covariances_lower_tria) / np.sum(covariances_lower_tria != 0) # Divide by the number of non-zero entries in the matrix (number of items below the diagonal)\n",
    "\n",
    "alpha = (m * mean_covariance) / (mean_variance + (m - 1) * mean_covariance)\n",
    "display(Markdown(\"Covariances:\"), pd.DataFrame(covariances).round(decimals=3))\n",
    "display(Markdown(f\"$\\\\alpha = {alpha}$,    with \" + \"$\\overline{Var} = \" + str(mean_variance) + \"$,  $\\overline{Cov} = \" + str(mean_covariance) + \"$\"))"
   ]
  },
  {
   "cell_type": "code",
   "execution_count": null,
   "id": "af07ec83-3302-407f-ae8e-595ee15f3ab0",
   "metadata": {},
   "outputs": [],
   "source": []
  },
  {
   "cell_type": "code",
   "execution_count": null,
   "id": "858dd575-69b9-434b-9c94-8a5756f609d2",
   "metadata": {},
   "outputs": [],
   "source": [
    "#TODO: Add standard way of calculation"
   ]
  },
  {
   "cell_type": "code",
   "execution_count": 12,
   "id": "530f7724-f53d-4d6d-a223-403be8e2b3fb",
   "metadata": {
    "tags": []
   },
   "outputs": [
    {
     "data": {
      "text/plain": [
       "6"
      ]
     },
     "execution_count": 12,
     "metadata": {},
     "output_type": "execute_result"
    }
   ],
   "source": []
  },
  {
   "cell_type": "code",
   "execution_count": null,
   "id": "83effb59-1c60-4907-b622-c83ef58b5f7b",
   "metadata": {},
   "outputs": [],
   "source": []
  },
  {
   "cell_type": "markdown",
   "id": "e3c7a765-6db5-431c-ad3b-97f6d23e4e34",
   "metadata": {
    "jp-MarkdownHeadingCollapsed": true,
    "tags": []
   },
   "source": [
    "## Item-to-total correlation"
   ]
  },
  {
   "cell_type": "markdown",
   "id": "1b5451b6-ca66-4a95-b025-18f6357f4b7b",
   "metadata": {},
   "source": [
    "Diagnostic information at the item level\n",
    "\n",
    "Defined as: \n",
    "\n",
    "$r_{it} = r(x_i, y) = \\frac{Cov(x_i,y)}{s_{x_i}*s_y}$, where $x_1,...,x_m$ items and $y = \\sum_{i=1}^m x_i$\n",
    "\n",
    "-> Overestimation with small number of items ==> Corrected Item-to-Total correlation\n",
    "\n",
    "$r_{ot}(o) = r(x_o,y)$, where $x_1, ..., x_o, ..., x_m$ scale items, $x_o$ focal item and $y = \\left( \\sum_{i=1}^m x_i \\right) - x_o$\n",
    "\n",
    "**Interpretation:**\n",
    "\n",
    "A item-to-total correlation of less than 0.2/0.3 indicates that the corresponding item does not correlate well with the scale overall (may be dropped)\n",
    "\n",
    "Used to discover items that do not correlate well with the other items and can thus be discarded; eliminating garbage items"
   ]
  },
  {
   "cell_type": "code",
   "execution_count": 55,
   "id": "08c031f8-3010-4f51-8697-08dbca7b52f9",
   "metadata": {},
   "outputs": [
    {
     "data": {
      "text/plain": [
       "array([0.85037776, 0.84481512, 0.8422695 , 0.78796299])"
      ]
     },
     "execution_count": 55,
     "metadata": {},
     "output_type": "execute_result"
    }
   ],
   "source": [
    "# Item-to-total correlation\n",
    "\n",
    "# TODO: Check if correct\n",
    "\n",
    "# Alternative 1: Calculate using covariance and standard deviation\n",
    "covariances = np.array((\n",
    "    [1.8225  , 0.      , 0.      , 0.      ],\n",
    "    [1.08864 , 1.2544  , 0.      , 0.      ],\n",
    "    [0.8991  , 0.895104, 1.2321  , 0.      ],\n",
    "    [1.06029 , 0.77616 , 0.94017 , 2.3716  ]\n",
    "))\n",
    "\n",
    "covariances_filled = covariances + np.tril(covariances, k=-1).T\n",
    "variances = covariances.diagonal()\n",
    "combined_covariances = np.sum(covariances_filled, axis=0)\n",
    "summed_covariances = np.sum(np.tril(covariances, k=-1))*2\n",
    "\n",
    "item_to_total_correlations = combined_covariances / np.sqrt(variances * (np.sum(variances) + summed_covariances))\n",
    "item_to_total_correlations"
   ]
  },
  {
   "cell_type": "code",
   "execution_count": 69,
   "id": "00a7221b-6064-4946-8f92-dc56c7b129a9",
   "metadata": {
    "tags": []
   },
   "outputs": [
    {
     "data": {
      "text/plain": [
       "array([0.56135307, 0.6456219 , 0.67856801, 0.56804131])"
      ]
     },
     "execution_count": 69,
     "metadata": {},
     "output_type": "execute_result"
    }
   ],
   "source": [
    "# Corrected Item-to-total correlation\n",
    "\n",
    "# Alternative 1: Calculate using covariance and standard deviation\n",
    "item_index = 3 # zero based index => number minus 1\n",
    "covariances = np.array((\n",
    "    [1.8225  , 0       , 0       , 0       ],\n",
    "    [1.08864 , 1.2544  , 0       , 0       ],\n",
    "    [0.8991  , 0.895104, 1.2321  , 0       ],\n",
    "    [1.06029 , 0.77616 , 0.94017 , 2.3716  ]\n",
    "))\n",
    "\n",
    "covariances_filled = covariances + np.tril(covariances, k=-1).T\n",
    "variances = covariances.diagonal()\n",
    "np.fill_diagonal(covariances_filled, 0)\n",
    "combined_covariances = np.sum(covariances_filled, axis=0)\n",
    "\n",
    "summed_covariances = []\n",
    "summed_variances = []\n",
    "\n",
    "for item_index in range(len(variances)):\n",
    "    mask = np.ones_like(covariances, dtype=bool)\n",
    "    mask[item_index] = False\n",
    "    summed_covariance = np.sum(np.tril(covariances, k=-1)[mask])*2\n",
    "    summed_covariances.append(summed_covariance)\n",
    "    \n",
    "    mask = np.ones_like(variances, dtype=bool)\n",
    "    mask[item_index] = False\n",
    "    summed_variance = np.sum(variances[mask])\n",
    "    summed_variances.append(summed_variance)\n",
    "\n",
    "summed_covariances = np.array(summed_covariances)\n",
    "summed_variances = np.array(summed_variances)\n",
    "\n",
    "corrected_item_to_total_correlations = combined_covariances / np.sqrt(variances * (summed_variances + summed_covariances))\n",
    "corrected_item_to_total_correlations"
   ]
  },
  {
   "cell_type": "code",
   "execution_count": null,
   "id": "86770510-e1ed-49ec-a93e-9131098eab0d",
   "metadata": {},
   "outputs": [],
   "source": []
  },
  {
   "cell_type": "code",
   "execution_count": 60,
   "id": "6bf16b54-fb8f-4f1f-8d57-b67606429da9",
   "metadata": {
    "tags": []
   },
   "outputs": [
    {
     "data": {
      "text/plain": [
       "array([[1.8225  , 0.      , 0.      , 0.      ],\n",
       "       [1.08864 , 1.2544  , 0.      , 0.      ],\n",
       "       [0.8991  , 0.895104, 1.2321  , 0.      ],\n",
       "       [1.06029 , 0.77616 , 0.94017 , 2.3716  ]])"
      ]
     },
     "execution_count": 60,
     "metadata": {},
     "output_type": "execute_result"
    }
   ],
   "source": [
    "covariances"
   ]
  },
  {
   "cell_type": "code",
   "execution_count": 64,
   "id": "c8fcafb1-5cae-4077-a3bb-86b3d538dcc7",
   "metadata": {
    "tags": []
   },
   "outputs": [
    {
     "data": {
      "text/plain": [
       "array([[0.      , 1.08864 , 0.8991  , 1.06029 ],\n",
       "       [0.      , 0.      , 0.895104, 0.77616 ],\n",
       "       [0.      , 0.      , 0.      , 0.94017 ],\n",
       "       [0.      , 0.      , 0.      , 0.      ]])"
      ]
     },
     "execution_count": 64,
     "metadata": {},
     "output_type": "execute_result"
    }
   ],
   "source": [
    "np.tril(covariances, k=-1).T"
   ]
  },
  {
   "cell_type": "code",
   "execution_count": null,
   "id": "e6ff87bd-7877-49cc-b9f9-de3bfe96ba15",
   "metadata": {},
   "outputs": [],
   "source": []
  }
 ],
 "metadata": {
  "kernelspec": {
   "display_name": "Python 3 (ipykernel)",
   "language": "python",
   "name": "python3"
  },
  "language_info": {
   "codemirror_mode": {
    "name": "ipython",
    "version": 3
   },
   "file_extension": ".py",
   "mimetype": "text/x-python",
   "name": "python",
   "nbconvert_exporter": "python",
   "pygments_lexer": "ipython3",
   "version": "3.11.4"
  }
 },
 "nbformat": 4,
 "nbformat_minor": 5
}
