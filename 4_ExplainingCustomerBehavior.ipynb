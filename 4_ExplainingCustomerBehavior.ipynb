{
 "cells": [
  {
   "cell_type": "code",
   "execution_count": 3,
   "id": "58a36fd0-52d2-48d9-9653-795d0717155c",
   "metadata": {
    "tags": []
   },
   "outputs": [],
   "source": [
    "import pandas as pd\n",
    "import numpy as np\n",
    "import scipy as sp\n",
    "from scipy import stats\n",
    "from IPython.display import display, Markdown, Latex"
   ]
  },
  {
   "cell_type": "code",
   "execution_count": null,
   "id": "b6554095-644f-467d-b076-4f194075f1c0",
   "metadata": {},
   "outputs": [],
   "source": []
  },
  {
   "cell_type": "code",
   "execution_count": null,
   "id": "997f077e-0363-4d63-a8df-4b494bb52760",
   "metadata": {},
   "outputs": [],
   "source": []
  },
  {
   "cell_type": "markdown",
   "id": "f825d434-4262-44fc-81dc-dda04360aadc",
   "metadata": {
    "tags": []
   },
   "source": [
    "## ANOVA"
   ]
  },
  {
   "cell_type": "markdown",
   "id": "d443bad8-4e72-4126-aa13-1597d22175a6",
   "metadata": {
    "jp-MarkdownHeadingCollapsed": true,
    "tags": []
   },
   "source": [
    "### One-factorial ANOVA\n",
    "One independent variable | Not accounting for metric confounding variables"
   ]
  },
  {
   "cell_type": "markdown",
   "id": "5be9f887-04ad-49e9-8638-0c183bcdea77",
   "metadata": {},
   "source": [
    "Main idea: the larger the variation between the groups in relation to the variation within the groups, the stronger the effect of group affiliation on the mean\n",
    "\n",
    "Formally known as F-Test: $F = \\frac{\\mathrm{Variation\\ between\\ the\\ groups}}{\\mathrm{Variation\\ within\\ the\\ groups}}$\n",
    "\n",
    "Tests statistical hypotheses:\n",
    "\n",
    "$H_0:$ all group means are equal or $\\mu_1 = \\mu_2 = \\mu_3 = ... =\\mu_m$\n",
    "\n",
    "$H_1:$ not all $\\mu_j$ are equal\n",
    "\n",
    "If $H_0$ is true, test statistic follows F distribution with $m-1$ numerator degrees of freedom and $n-m$ denominator degrees of freedom\n",
    "\n",
    "\n",
    "**Notation:**\n",
    "\n",
    "$Y_{ij} =$ $i$th observation in the group $j$\n",
    "\n",
    "$m = $ number of groups\n",
    "\n",
    "$n_j = $ number of observations in the group $j$\n",
    "\n",
    "$\\bar{Y}_{.j} = \\frac{1}{n_j} \\sum_{i = 1}^{n_j}Y_{ij} =$ sample mean of the group $j$\n",
    "\n",
    "$\\bar{Y}_{..} = \\frac{1}{\\sum_{j=1}^m n_j} \\sum_{j=1}^m \\sum_{i=1}^{nj} Y_{ij} =$ overall sample mean\n",
    "\n",
    "Variation within groups ($n-m$ degrees of freedom): $s_W^2 = \\frac{1}{m} \\sum_{j=1}^m \\frac{\\sum_{i=1}^{n_j} (Y_{ij} - \\bar{Y}_{.j})^2}{n_j - 1}$\n",
    "\n",
    "Variation between groups ($m-1$ degrees of freedom): $s_B^2 = \\frac{\\sum_{j=1}^m n_j (\\bar{Y}_{.j} - \\bar{Y}_{..})^2}{m-1}$\n",
    "\n",
    "Test statistic is computed as: $F = \\frac{s_B^2}{s_W^2}$"
   ]
  },
  {
   "cell_type": "code",
   "execution_count": 84,
   "id": "e82c479e-4b88-435f-ae3d-f062159b8afd",
   "metadata": {},
   "outputs": [
    {
     "data": {
      "text/html": [
       "<div>\n",
       "<style scoped>\n",
       "    .dataframe tbody tr th:only-of-type {\n",
       "        vertical-align: middle;\n",
       "    }\n",
       "\n",
       "    .dataframe tbody tr th {\n",
       "        vertical-align: top;\n",
       "    }\n",
       "\n",
       "    .dataframe thead th {\n",
       "        text-align: right;\n",
       "    }\n",
       "</style>\n",
       "<table border=\"1\" class=\"dataframe\">\n",
       "  <thead>\n",
       "    <tr style=\"text-align: right;\">\n",
       "      <th></th>\n",
       "      <th>val_1</th>\n",
       "      <th>val_2</th>\n",
       "      <th>val_3</th>\n",
       "      <th>val_4</th>\n",
       "      <th>Y_j</th>\n",
       "      <th>s²_j</th>\n",
       "      <th>group</th>\n",
       "    </tr>\n",
       "  </thead>\n",
       "  <tbody>\n",
       "    <tr>\n",
       "      <th>0</th>\n",
       "      <td>177.0</td>\n",
       "      <td>225.0</td>\n",
       "      <td>167.0</td>\n",
       "      <td>176.0</td>\n",
       "      <td>186.25</td>\n",
       "      <td>687.583333</td>\n",
       "      <td>group_1</td>\n",
       "    </tr>\n",
       "    <tr>\n",
       "      <th>1</th>\n",
       "      <td>226.0</td>\n",
       "      <td>196.0</td>\n",
       "      <td>198.0</td>\n",
       "      <td>206.0</td>\n",
       "      <td>206.50</td>\n",
       "      <td>187.666667</td>\n",
       "      <td>group_2</td>\n",
       "    </tr>\n",
       "    <tr>\n",
       "      <th>2</th>\n",
       "      <td>226.0</td>\n",
       "      <td>229.0</td>\n",
       "      <td>215.0</td>\n",
       "      <td>188.0</td>\n",
       "      <td>214.50</td>\n",
       "      <td>348.333333</td>\n",
       "      <td>group_3</td>\n",
       "    </tr>\n",
       "  </tbody>\n",
       "</table>\n",
       "</div>"
      ],
      "text/plain": [
       "   val_1  val_2  val_3  val_4     Y_j        s²_j    group\n",
       "0  177.0  225.0  167.0  176.0  186.25  687.583333  group_1\n",
       "1  226.0  196.0  198.0  206.0  206.50  187.666667  group_2\n",
       "2  226.0  229.0  215.0  188.0  214.50  348.333333  group_3"
      ]
     },
     "metadata": {},
     "output_type": "display_data"
    },
    {
     "data": {
      "text/markdown": [
       "ANOVA concluded with the following results: $\\bar{Y}_{..} = 202.41666666666666$    $S_W^2 = 407.861$    $S_B^2 = 848.083$    $F = 2.079$    $p = 0.18098$"
      ],
      "text/plain": [
       "<IPython.core.display.Markdown object>"
      ]
     },
     "metadata": {},
     "output_type": "display_data"
    },
    {
     "data": {
      "text/markdown": [
       "$df_{nominator} = 2$    $df_{denominator} = 9$"
      ],
      "text/plain": [
       "<IPython.core.display.Markdown object>"
      ]
     },
     "metadata": {},
     "output_type": "display_data"
    },
    {
     "data": {
      "text/markdown": [
       "$C = 3.8852938346523933$"
      ],
      "text/plain": [
       "<IPython.core.display.Markdown object>"
      ]
     },
     "metadata": {},
     "output_type": "display_data"
    },
    {
     "data": {
      "text/markdown": [
       "Since $F = 2.0793434584213037 < 3.8852938346523933 = C$ we **cannot** reject $H_0$"
      ],
      "text/plain": [
       "<IPython.core.display.Markdown object>"
      ]
     },
     "metadata": {},
     "output_type": "display_data"
    }
   ],
   "source": [
    "# Provide the experimental data for each group and put all groups in the groups list\n",
    "data_group_1 = np.array([177, 225, 167, 176])\n",
    "data_group_2 = np.array([226, 196, 198, 206])\n",
    "data_group_3 = np.array([226, 229, 215, 188])\n",
    "\n",
    "groups = [data_group_1, data_group_2, data_group_3]\n",
    "\n",
    "#--------------------------------------------------#\n",
    "\n",
    "group_means = [np.mean(group) for group in groups]\n",
    "overall_mean = np.sum([np.sum(group) for group in groups]) / np.sum([len(group) for group in groups])\n",
    "\n",
    "within_group_variances = []\n",
    "for group, mean in zip(groups, group_means):\n",
    "    within_group_variance = np.sum((group - mean)**2)\n",
    "    within_group_variances.append(within_group_variance / (len(group) - 1))\n",
    "\n",
    "variation_within_groups = np.mean(within_group_variances)\n",
    "\n",
    "variation_between_groups = np.sum([len(group) * (group_mean - overall_mean)**2 for group, group_mean in zip(groups, group_means)])/(len(groups) - 1)\n",
    "\n",
    "F = variation_between_groups / variation_within_groups\n",
    "\n",
    "df_n = len(groups) - 1\n",
    "df_d = np.sum([len(group) for group in groups]) - len(groups)\n",
    "\n",
    "p = stats.distributions.f.sf(F, df_n, df_d)\n",
    "\n",
    "max_group_length = np.max([len(group) for group in groups])\n",
    "\n",
    "column_labels = [f\"val_{index + 1}\" for index in range(max_group_length)]\n",
    "column_labels.append(\"Y_j\")\n",
    "column_labels.append(\"s²_j\")\n",
    "\n",
    "groups_data = []\n",
    "\n",
    "for index, group in enumerate(groups):\n",
    "    group_data = np.zeros(max_group_length + 2)\n",
    "    group_data[:len(group)] = group\n",
    "    group_data[-2] = group_means[index]\n",
    "    group_data[-1] = within_group_variances[index]\n",
    "    groups_data.append(group_data)\n",
    "\n",
    "df = pd.DataFrame(groups_data, columns=column_labels)\n",
    "df['group'] = [f\"group_{index+1}\" for index in range(len(groups))]\n",
    "\n",
    "display(df)\n",
    "\n",
    "display(Markdown(\"ANOVA concluded with the following results: $\\\\bar{Y}_{..} = \" + str(overall_mean) + f\"$    $S_W^2 = {np.round(variation_within_groups, decimals=3)}$    $S_B^2 = {np.round(variation_between_groups, decimals=3)}$    $F = {np.round(F, decimals=3)}$    $p = {np.round(p, decimals=5)}$\"),\n",
    "       Markdown(\"$df_{nominator} = \" + str(df_n) + \"$    $df_{denominator} = \" + str(df_d) + \"$\"), Markdown(f\"$C = {c}$\"))\n",
    "if F > c:\n",
    "    display(Markdown(f\"Since $F = {F} > {c} = C$ we reject $H_0$\"))\n",
    "else:\n",
    "    display(Markdown(f\"Since $F = {F} < {c} = C$ we **cannot** reject $H_0$\"))"
   ]
  },
  {
   "cell_type": "code",
   "execution_count": 85,
   "id": "d465eeef-3ebc-4e97-bdcc-b94707dccd8d",
   "metadata": {
    "tags": []
   },
   "outputs": [
    {
     "data": {
      "text/html": [
       "<div>\n",
       "<style scoped>\n",
       "    .dataframe tbody tr th:only-of-type {\n",
       "        vertical-align: middle;\n",
       "    }\n",
       "\n",
       "    .dataframe tbody tr th {\n",
       "        vertical-align: top;\n",
       "    }\n",
       "\n",
       "    .dataframe thead th {\n",
       "        text-align: right;\n",
       "    }\n",
       "</style>\n",
       "<table border=\"1\" class=\"dataframe\">\n",
       "  <thead>\n",
       "    <tr style=\"text-align: right;\">\n",
       "      <th></th>\n",
       "      <th>val_1</th>\n",
       "      <th>val_2</th>\n",
       "      <th>val_3</th>\n",
       "      <th>val_4</th>\n",
       "      <th>val_5</th>\n",
       "      <th>Y_j</th>\n",
       "      <th>s²_j</th>\n",
       "      <th>group</th>\n",
       "    </tr>\n",
       "  </thead>\n",
       "  <tbody>\n",
       "    <tr>\n",
       "      <th>0</th>\n",
       "      <td>5.0</td>\n",
       "      <td>4.0</td>\n",
       "      <td>2.0</td>\n",
       "      <td>4.0</td>\n",
       "      <td>5.0</td>\n",
       "      <td>4.0</td>\n",
       "      <td>1.5</td>\n",
       "      <td>group_1</td>\n",
       "    </tr>\n",
       "    <tr>\n",
       "      <th>1</th>\n",
       "      <td>2.0</td>\n",
       "      <td>3.0</td>\n",
       "      <td>3.0</td>\n",
       "      <td>2.0</td>\n",
       "      <td>1.0</td>\n",
       "      <td>2.2</td>\n",
       "      <td>0.7</td>\n",
       "      <td>group_2</td>\n",
       "    </tr>\n",
       "    <tr>\n",
       "      <th>2</th>\n",
       "      <td>4.0</td>\n",
       "      <td>5.0</td>\n",
       "      <td>5.0</td>\n",
       "      <td>4.0</td>\n",
       "      <td>5.0</td>\n",
       "      <td>4.6</td>\n",
       "      <td>0.3</td>\n",
       "      <td>group_3</td>\n",
       "    </tr>\n",
       "  </tbody>\n",
       "</table>\n",
       "</div>"
      ],
      "text/plain": [
       "   val_1  val_2  val_3  val_4  val_5  Y_j  s²_j    group\n",
       "0    5.0    4.0    2.0    4.0    5.0  4.0   1.5  group_1\n",
       "1    2.0    3.0    3.0    2.0    1.0  2.2   0.7  group_2\n",
       "2    4.0    5.0    5.0    4.0    5.0  4.6   0.3  group_3"
      ]
     },
     "metadata": {},
     "output_type": "display_data"
    },
    {
     "data": {
      "text/markdown": [
       "ANOVA concluded with the following results: $\\bar{Y}_{..} = 3.6$    $S_W^2 = 0.833$    $S_B^2 = 7.8$    $F = 9.36$    $p = 0.00355$"
      ],
      "text/plain": [
       "<IPython.core.display.Markdown object>"
      ]
     },
     "metadata": {},
     "output_type": "display_data"
    },
    {
     "data": {
      "text/markdown": [
       "$df_{nominator} = 2$    $df_{denominator} = 12$"
      ],
      "text/plain": [
       "<IPython.core.display.Markdown object>"
      ]
     },
     "metadata": {},
     "output_type": "display_data"
    },
    {
     "data": {
      "text/markdown": [
       "$C = 3.8852938346523933$"
      ],
      "text/plain": [
       "<IPython.core.display.Markdown object>"
      ]
     },
     "metadata": {},
     "output_type": "display_data"
    },
    {
     "data": {
      "text/markdown": [
       "Since $F = 9.359999999999996 > 3.8852938346523933 = C$ we reject $H_0$"
      ],
      "text/plain": [
       "<IPython.core.display.Markdown object>"
      ]
     },
     "metadata": {},
     "output_type": "display_data"
    }
   ],
   "source": [
    "alpha = 0.05\n",
    "# Provide the experimental data for each group and put all groups in the groups list\n",
    "data_group_1 = np.array([5, 4, 2, 4, 5])\n",
    "data_group_2 = np.array([2, 3, 3, 2, 1])\n",
    "data_group_3 = np.array([4, 5, 5, 4, 5])\n",
    "\n",
    "groups = [data_group_1, data_group_2, data_group_3]\n",
    "\n",
    "#--------------------------------------------------#\n",
    "\n",
    "group_means = [np.mean(group) for group in groups]\n",
    "overall_mean = np.sum([np.sum(group) for group in groups]) / np.sum([len(group) for group in groups])\n",
    "\n",
    "within_group_variances = []\n",
    "for group, mean in zip(groups, group_means):\n",
    "    within_group_variance = np.sum((group - mean)**2)\n",
    "    within_group_variances.append(within_group_variance / (len(group) - 1))\n",
    "\n",
    "variation_within_groups = np.mean(within_group_variances)\n",
    "\n",
    "variation_between_groups = np.sum([len(group) * (group_mean - overall_mean)**2 for group, group_mean in zip(groups, group_means)])/(len(groups) - 1)\n",
    "\n",
    "F = variation_between_groups / variation_within_groups\n",
    "\n",
    "df_n = len(groups) - 1\n",
    "df_d = np.sum([len(group) for group in groups]) - len(groups)\n",
    "\n",
    "p = stats.distributions.f.sf(F, df_n, df_d)\n",
    "\n",
    "c = stats.distributions.f.ppf(1-alpha, df_n, df_d)\n",
    "\n",
    "max_group_length = np.max([len(group) for group in groups])\n",
    "\n",
    "column_labels = [f\"val_{index + 1}\" for index in range(max_group_length)]\n",
    "column_labels.append(\"Y_j\")\n",
    "column_labels.append(\"s²_j\")\n",
    "\n",
    "groups_data = []\n",
    "\n",
    "for index, group in enumerate(groups):\n",
    "    group_data = np.zeros(max_group_length + 2)\n",
    "    group_data[:len(group)] = group\n",
    "    group_data[-2] = group_means[index]\n",
    "    group_data[-1] = within_group_variances[index]\n",
    "    groups_data.append(group_data)\n",
    "\n",
    "df = pd.DataFrame(groups_data, columns=column_labels)\n",
    "df['group'] = [f\"group_{index+1}\" for index in range(len(groups))]\n",
    "\n",
    "display(df)\n",
    "\n",
    "display(Markdown(\"ANOVA concluded with the following results: $\\\\bar{Y}_{..} = \" + str(overall_mean) + f\"$    $S_W^2 = {np.round(variation_within_groups, decimals=3)}$    $S_B^2 = {np.round(variation_between_groups, decimals=3)}$    $F = {np.round(F, decimals=3)}$    $p = {np.round(p, decimals=5)}$\"),\n",
    "       Markdown(\"$df_{nominator} = \" + str(df_n) + \"$    $df_{denominator} = \" + str(df_d) + \"$\"), Markdown(f\"$C = {c}$\"))\n",
    "\n",
    "if F > c:\n",
    "    display(Markdown(f\"Since $F = {F} > {c} = C$ we reject $H_0$\"))\n",
    "else:\n",
    "    display(Markdown(f\"Since $F = {F} < {c} = C$ we **cannot** reject $H_0$\"))"
   ]
  },
  {
   "cell_type": "code",
   "execution_count": null,
   "id": "937edd07-dca0-4389-a0d6-53204e4d5777",
   "metadata": {},
   "outputs": [],
   "source": []
  },
  {
   "cell_type": "code",
   "execution_count": null,
   "id": "40240c75-410b-41d7-84f8-1be85a606c6a",
   "metadata": {},
   "outputs": [],
   "source": []
  },
  {
   "cell_type": "markdown",
   "id": "a7a1088c-2fbb-4c10-a766-ab22773ba188",
   "metadata": {},
   "source": [
    "### One-factorial ANCOVA"
   ]
  },
  {
   "cell_type": "markdown",
   "id": "f8ad647c-e2fb-4278-bd0a-b04bebedc7af",
   "metadata": {},
   "source": [
    "No calculations neccessary?"
   ]
  },
  {
   "cell_type": "code",
   "execution_count": null,
   "id": "6895ec3c-dfee-4778-8038-bcc131981057",
   "metadata": {},
   "outputs": [],
   "source": []
  },
  {
   "cell_type": "markdown",
   "id": "b5822099-feb3-4074-b8ae-cc8d1818e250",
   "metadata": {},
   "source": [
    "## Regression"
   ]
  },
  {
   "cell_type": "code",
   "execution_count": null,
   "id": "e7c425fe-f52d-41bf-953e-08a5f70c1fe6",
   "metadata": {},
   "outputs": [],
   "source": []
  },
  {
   "cell_type": "code",
   "execution_count": null,
   "id": "b94449c4-0a42-4691-826d-cb02ba89d157",
   "metadata": {},
   "outputs": [],
   "source": []
  },
  {
   "cell_type": "code",
   "execution_count": null,
   "id": "f187e356-ae72-45b1-8f34-a2942ee4cbc4",
   "metadata": {},
   "outputs": [],
   "source": []
  },
  {
   "cell_type": "code",
   "execution_count": null,
   "id": "99ba4b6d-18ad-4c1c-8f9e-30e07ba41aa9",
   "metadata": {},
   "outputs": [],
   "source": []
  },
  {
   "cell_type": "code",
   "execution_count": null,
   "id": "91bcd06d-058e-41db-9d36-9b449b076a46",
   "metadata": {},
   "outputs": [],
   "source": []
  }
 ],
 "metadata": {
  "kernelspec": {
   "display_name": "Python 3 (ipykernel)",
   "language": "python",
   "name": "python3"
  },
  "language_info": {
   "codemirror_mode": {
    "name": "ipython",
    "version": 3
   },
   "file_extension": ".py",
   "mimetype": "text/x-python",
   "name": "python",
   "nbconvert_exporter": "python",
   "pygments_lexer": "ipython3",
   "version": "3.11.4"
  }
 },
 "nbformat": 4,
 "nbformat_minor": 5
}
