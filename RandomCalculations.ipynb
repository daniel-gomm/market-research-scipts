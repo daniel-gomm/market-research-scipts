{
 "cells": [
  {
   "cell_type": "code",
   "execution_count": 1,
   "id": "88f0e13e-6e0c-414b-adef-a0526c6e7ee5",
   "metadata": {
    "tags": []
   },
   "outputs": [],
   "source": [
    "import numpy as np"
   ]
  },
  {
   "cell_type": "markdown",
   "id": "557b1fb6-7eb2-4183-8478-e55437779d45",
   "metadata": {},
   "source": [
    "$MSE_{rnd} = (\\frac{\\sigma_{(n)}}{\\sqrt{n_{rnd}}})^2$"
   ]
  },
  {
   "cell_type": "markdown",
   "id": "167c8eca-fb0f-4850-a18c-49a18f72cd38",
   "metadata": {},
   "source": [
    "#### Mean squared error of a random sample"
   ]
  },
  {
   "cell_type": "code",
   "execution_count": 3,
   "id": "dc386b4d-d2ca-41ff-8947-753051a36495",
   "metadata": {
    "tags": []
   },
   "outputs": [
    {
     "data": {
      "text/plain": [
       "799920.0019999999"
      ]
     },
     "execution_count": 3,
     "metadata": {},
     "output_type": "execute_result"
    }
   ],
   "source": [
    "sigma_n = 19999\n",
    "n_rnd = 500\n",
    "\n",
    "mse_rnd = (sigma_n/np.sqrt(n_rnd))**2\n",
    "mse_rnd"
   ]
  },
  {
   "cell_type": "code",
   "execution_count": null,
   "id": "1b124077-2085-42a9-9742-7da8bcc416dd",
   "metadata": {},
   "outputs": [],
   "source": []
  },
  {
   "cell_type": "markdown",
   "id": "f28339f1-2ef8-47de-9c17-62f21c01557d",
   "metadata": {},
   "source": [
    "#### Sample size of a non-random sample to compensate for Bias"
   ]
  },
  {
   "cell_type": "markdown",
   "id": "ad4aeffc-bdfc-4e3f-9d85-277736bbd6ac",
   "metadata": {},
   "source": [
    "$n_{nonrnd} = \\frac{\\sigma_{(n)}^2 + E_{R, nonrnd}[r(R,x)]^2 * (N-1) * \\sigma_{(n-1)}^2}{MSE_{rnd}[\\hat{t}] + E_{R, nonrnd}[r(R,x)]^2 * \\frac{N-1}{N} * \\sigma_{(n-1)}^2}$"
   ]
  },
  {
   "cell_type": "code",
   "execution_count": 7,
   "id": "d2ffa85a-a657-46bd-b940-a41cd721f6df",
   "metadata": {
    "tags": []
   },
   "outputs": [
    {
     "data": {
      "text/plain": [
       "79048019.22855428"
      ]
     },
     "execution_count": 7,
     "metadata": {},
     "output_type": "execute_result"
    }
   ],
   "source": [
    "sigma_n_minus_1 = 20000\n",
    "sigma_n = 19999\n",
    "E_r_R_x = 0.2\n",
    "MSE_rnd = 799920\n",
    "N = 83000000\n",
    "\n",
    "numerator = sigma_n**2 + E_r_R_x**2 * (N-1) * sigma_n_minus_1**2\n",
    "denominator = MSE_rnd + E_r_R_x**2 * ((N-1)/N) * sigma_n_minus_1**2\n",
    "\n",
    "n = numerator / denominator\n",
    "\n",
    "#n = (sigma_n**2 + E_r_R_x**2 * (N-1) * sigma_n_minus_1**2) / (MSE_rnd + E_r_R_x**2 * ((N-1)/N) * sigma_n_minus_1**2)\n",
    "n"
   ]
  },
  {
   "cell_type": "code",
   "execution_count": null,
   "id": "b5dcc0ef-1bb6-41f8-b579-849ab686c073",
   "metadata": {},
   "outputs": [],
   "source": []
  }
 ],
 "metadata": {
  "kernelspec": {
   "display_name": "Python 3 (ipykernel)",
   "language": "python",
   "name": "python3"
  },
  "language_info": {
   "codemirror_mode": {
    "name": "ipython",
    "version": 3
   },
   "file_extension": ".py",
   "mimetype": "text/x-python",
   "name": "python",
   "nbconvert_exporter": "python",
   "pygments_lexer": "ipython3",
   "version": "3.11.4"
  }
 },
 "nbformat": 4,
 "nbformat_minor": 5
}
